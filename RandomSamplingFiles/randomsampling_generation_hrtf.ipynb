{
 "cells": [
  {
   "cell_type": "markdown",
   "id": "752ef72b",
   "metadata": {},
   "source": [
    "# HRTF random sampling file\n",
    "\n",
    "To ensure replicability of the experiment.\n",
    "This combines an azimuth angle and elevation angle with a sample to get an initial position.\n",
    "\n",
    "Structure:\n",
    "\n",
    "```### ### speaker_##_sample_##.flac```"
   ]
  },
  {
   "cell_type": "code",
   "execution_count": 1,
   "id": "fe3f0e1d",
   "metadata": {},
   "outputs": [],
   "source": [
    "import random"
   ]
  },
  {
   "cell_type": "code",
   "execution_count": 2,
   "id": "96d6d8e6",
   "metadata": {},
   "outputs": [],
   "source": [
    "# Different azimuth angles:\n",
    "azimuth_angles = (\"270\", \"285\", \"300\", \"315\", \"330\", \"345\", \"000\", \"015\", \"030\", \"045\", \"060\", \"075\", \"090\")\n",
    "\n",
    "# Different elevation angles:\n",
    "elevation_angles = (\"-30\", \"-20\", \"-10\", \"000\", \"010\", \"020\", \"030\")"
   ]
  },
  {
   "cell_type": "markdown",
   "id": "9ff690f2",
   "metadata": {},
   "source": [
    "We need to do something similar for all samples:"
   ]
  },
  {
   "cell_type": "code",
   "execution_count": 3,
   "id": "e06f15b7",
   "metadata": {},
   "outputs": [],
   "source": [
    "speakers = range(1,41)\n",
    "speakers = [str(x).zfill(2) for x in speakers]\n",
    "samples = range(1,21)\n",
    "samples = [str(x).zfill(2) for x in samples]"
   ]
  },
  {
   "cell_type": "markdown",
   "id": "25f0754d",
   "metadata": {},
   "source": [
    "### Make all combinations:\n",
    "\n",
    "Now we put together the filenames of all possible combinations of BRIR names:"
   ]
  },
  {
   "cell_type": "code",
   "execution_count": 4,
   "id": "56bc3742",
   "metadata": {},
   "outputs": [],
   "source": [
    "speaker_samples = list()\n",
    "for speaker in speakers:\n",
    "    for sample in samples:\n",
    "        speaker_samples.append(\"speaker_\"+speaker+\"_sample_\"+sample+\".flac\")"
   ]
  },
  {
   "cell_type": "code",
   "execution_count": 5,
   "id": "aef8006b",
   "metadata": {},
   "outputs": [
    {
     "name": "stdout",
     "output_type": "stream",
     "text": [
      "200\n"
     ]
    }
   ],
   "source": [
    "print(len(speaker_samples))"
   ]
  },
  {
   "cell_type": "code",
   "execution_count": 6,
   "id": "a15138ab",
   "metadata": {},
   "outputs": [],
   "source": [
    "sampling_file = list()\n",
    "for az in azimuth_angles:\n",
    "    for el in elevation_angles:\n",
    "        if az == \"000\" and el == \"000\":\n",
    "            continue\n",
    "        for audio in speaker_samples:\n",
    "            sampling_file.append(az + \" \" + el + \" \" + audio)\n",
    "                \n",
    "# Shuffle:\n",
    "random.shuffle(sampling_file)"
   ]
  },
  {
   "cell_type": "code",
   "execution_count": 7,
   "id": "9f456391",
   "metadata": {},
   "outputs": [
    {
     "name": "stdout",
     "output_type": "stream",
     "text": [
      "['285 010 speaker_09_sample_03.flac', '285 -30 speaker_06_sample_12.flac', '060 -10 speaker_06_sample_14.flac', '045 -10 speaker_03_sample_19.flac', '090 -10 speaker_09_sample_19.flac', '060 -10 speaker_04_sample_13.flac', '300 020 speaker_07_sample_17.flac', '060 000 speaker_07_sample_03.flac', '090 030 speaker_03_sample_03.flac', '060 000 speaker_03_sample_01.flac', '345 020 speaker_10_sample_01.flac', '090 020 speaker_10_sample_05.flac', '060 -10 speaker_07_sample_04.flac', '030 020 speaker_05_sample_05.flac', '015 -20 speaker_10_sample_01.flac', '300 -30 speaker_04_sample_19.flac', '045 000 speaker_10_sample_09.flac', '045 020 speaker_01_sample_12.flac', '090 -30 speaker_09_sample_19.flac', '270 -30 speaker_04_sample_13.flac', '030 -30 speaker_01_sample_09.flac', '075 030 speaker_08_sample_06.flac', '270 -10 speaker_05_sample_08.flac', '060 030 speaker_07_sample_13.flac', '030 -10 speaker_07_sample_07.flac', '030 030 speaker_06_sample_17.flac', '345 -10 speaker_02_sample_16.flac', '345 -10 speaker_08_sample_07.flac', '285 010 speaker_03_sample_01.flac', '315 -20 speaker_10_sample_11.flac', '285 -20 speaker_02_sample_13.flac', '345 030 speaker_09_sample_07.flac', '090 -30 speaker_07_sample_19.flac', '075 030 speaker_04_sample_10.flac', '060 000 speaker_08_sample_11.flac', '060 -10 speaker_04_sample_14.flac', '345 000 speaker_05_sample_19.flac', '075 -30 speaker_01_sample_04.flac', '330 -30 speaker_04_sample_08.flac', '000 030 speaker_06_sample_06.flac', '270 020 speaker_03_sample_07.flac', '045 020 speaker_10_sample_05.flac', '075 030 speaker_09_sample_16.flac', '075 010 speaker_07_sample_16.flac', '015 000 speaker_09_sample_13.flac', '045 -20 speaker_10_sample_09.flac', '300 -10 speaker_08_sample_02.flac', '315 -10 speaker_06_sample_03.flac', '000 -20 speaker_02_sample_13.flac', '285 030 speaker_04_sample_14.flac']\n"
     ]
    }
   ],
   "source": [
    "print(sampling_file[0:50])"
   ]
  },
  {
   "cell_type": "markdown",
   "id": "abb6ca29",
   "metadata": {},
   "source": [
    "### Write files to .txt file:"
   ]
  },
  {
   "cell_type": "code",
   "execution_count": 8,
   "id": "7ff0dbd7",
   "metadata": {},
   "outputs": [],
   "source": [
    "f = open(\"hrtf_train_random_sampling_file.txt\", \"w\")\n",
    "\n",
    "for sampling_combination in sampling_file:\n",
    "    f.write(sampling_combination+\"\\n\")\n",
    "\n",
    "f.close()"
   ]
  },
  {
   "cell_type": "code",
   "execution_count": null,
   "id": "2bdaa1a6",
   "metadata": {},
   "outputs": [],
   "source": []
  }
 ],
 "metadata": {
  "kernelspec": {
   "display_name": "Python 3 (ipykernel)",
   "language": "python",
   "name": "python3"
  },
  "language_info": {
   "codemirror_mode": {
    "name": "ipython",
    "version": 3
   },
   "file_extension": ".py",
   "mimetype": "text/x-python",
   "name": "python",
   "nbconvert_exporter": "python",
   "pygments_lexer": "ipython3",
   "version": "3.12.3"
  }
 },
 "nbformat": 4,
 "nbformat_minor": 5
}
