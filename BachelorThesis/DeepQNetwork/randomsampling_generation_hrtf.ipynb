{
 "cells": [
  {
   "cell_type": "markdown",
   "id": "752ef72b",
   "metadata": {},
   "source": [
    "# Making a random sampling file\n",
    "\n",
    "To ensure replicability of the experiment.\n",
    "\n",
    "HRTF structure:\n",
    "\n",
    "```### ###```\n",
    "\n",
    "Each of the hash signs is a variable:\n",
    "\n",
    "- Azimuth angle of the speaker w.r.t. the agent\n",
    "- Elevation angle of the speaker w.r.t. the agent\n",
    "\n",
    "We also add the sample name."
   ]
  },
  {
   "cell_type": "code",
   "execution_count": 27,
   "id": "fe3f0e1d",
   "metadata": {},
   "outputs": [],
   "source": [
    "import random"
   ]
  },
  {
   "cell_type": "code",
   "execution_count": 28,
   "id": "96d6d8e6",
   "metadata": {},
   "outputs": [],
   "source": [
    "# Different azimuth angles:\n",
    "azimuth_angles = (\"270\", \"285\", \"300\", \"315\", \"330\", \"345\", \"000\", \"015\", \"030\", \"045\", \"060\", \"075\", \"090\")\n",
    "\n",
    "# Different elevation angles:\n",
    "elevation_angles = (\"-45\", \"-20\", \"000\", \"020\", \"045\")"
   ]
  },
  {
   "cell_type": "markdown",
   "id": "9ff690f2",
   "metadata": {},
   "source": [
    "We need to do something similar for all samples:"
   ]
  },
  {
   "cell_type": "code",
   "execution_count": 29,
   "id": "e06f15b7",
   "metadata": {},
   "outputs": [],
   "source": [
    "speakers = range(1,41)\n",
    "speakers = [str(x).zfill(2) for x in speakers]\n",
    "samples = range(1,41)\n",
    "samples = [str(x).zfill(2) for x in samples]"
   ]
  },
  {
   "cell_type": "markdown",
   "id": "25f0754d",
   "metadata": {},
   "source": [
    "### Make all combinations:\n",
    "\n",
    "Now we put together the filenames of all possible combinations of BRIR names:"
   ]
  },
  {
   "cell_type": "code",
   "execution_count": 30,
   "id": "56bc3742",
   "metadata": {},
   "outputs": [],
   "source": [
    "speaker_samples = list()\n",
    "for speaker in speakers:\n",
    "    for sample in samples:\n",
    "        speaker_samples.append(\"speaker_\"+speaker+\"_sample_\"+sample+\".flac\")"
   ]
  },
  {
   "cell_type": "code",
   "execution_count": 31,
   "id": "aef8006b",
   "metadata": {},
   "outputs": [
    {
     "name": "stdout",
     "output_type": "stream",
     "text": [
      "1600\n"
     ]
    }
   ],
   "source": [
    "print(len(speaker_samples))"
   ]
  },
  {
   "cell_type": "code",
   "execution_count": 32,
   "id": "a15138ab",
   "metadata": {},
   "outputs": [],
   "source": [
    "sampling_file = list()\n",
    "for az in azimuth_angles:\n",
    "    for el in elevation_angles:\n",
    "        if az == \"000\" and el == \"000\":\n",
    "            continue\n",
    "        for audio in speaker_samples:\n",
    "            sampling_file.append(az + \" \" + el + \" \" + audio)\n",
    "                \n",
    "# Shuffle:\n",
    "random.shuffle(sampling_file)"
   ]
  },
  {
   "cell_type": "markdown",
   "id": "abb6ca29",
   "metadata": {},
   "source": [
    "### Write files to .txt file:"
   ]
  },
  {
   "cell_type": "code",
   "execution_count": 36,
   "id": "7ff0dbd7",
   "metadata": {},
   "outputs": [],
   "source": [
    "f = open(\"random_sampling_file_hrtf.txt\", \"w\")\n",
    "\n",
    "for sampling_combination in sampling_file:\n",
    "    f.write(sampling_combination+\"\\n\")\n",
    "\n",
    "f.close()"
   ]
  }
 ],
 "metadata": {
  "kernelspec": {
   "display_name": "Python 3 (ipykernel)",
   "language": "python",
   "name": "python3"
  },
  "language_info": {
   "codemirror_mode": {
    "name": "ipython",
    "version": 3
   },
   "file_extension": ".py",
   "mimetype": "text/x-python",
   "name": "python",
   "nbconvert_exporter": "python",
   "pygments_lexer": "ipython3",
   "version": "3.12.3"
  }
 },
 "nbformat": 4,
 "nbformat_minor": 5
}
