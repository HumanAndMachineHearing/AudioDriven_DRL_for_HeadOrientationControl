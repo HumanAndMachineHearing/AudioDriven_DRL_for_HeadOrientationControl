{
 "cells": [
  {
   "cell_type": "markdown",
   "id": "49759fa5",
   "metadata": {
    "id": "49759fa5"
   },
   "source": [
    "# Reinforcement Learning"
   ]
  },
  {
   "cell_type": "markdown",
   "id": "8d332a6a",
   "metadata": {
    "id": "8d332a6a"
   },
   "source": [
    "### Imports:"
   ]
  },
  {
   "cell_type": "code",
   "execution_count": null,
   "id": "3a95a1b5",
   "metadata": {
    "id": "3a95a1b5"
   },
   "outputs": [],
   "source": [
    "import numpy as np\n",
    "import matplotlib.pyplot as plt\n",
    "import torch\n",
    "import torchaudio\n",
    "from os import path, walk\n",
    "import torch.nn as nn\n",
    "from IPython.display import Audio, display\n",
    "from tqdm import tqdm"
   ]
  },
  {
   "cell_type": "markdown",
   "id": "1d311b65",
   "metadata": {
    "id": "1d311b65"
   },
   "source": [
    "### Hyperparameters"
   ]
  },
  {
   "cell_type": "code",
   "execution_count": null,
   "id": "4cf53008",
   "metadata": {
    "colab": {
     "base_uri": "https://localhost:8080/"
    },
    "id": "4cf53008",
    "outputId": "e275f768-19bd-49e7-fc89-c685c158ea7e"
   },
   "outputs": [
    {
     "name": "stdout",
     "output_type": "stream",
     "text": [
      "cuda\n"
     ]
    }
   ],
   "source": [
    "fs = 8000\n",
    "device = torch.device(\"cuda\" if torch.cuda.is_available() else \"cpu\")\n",
    "print(device)"
   ]
  },
  {
   "cell_type": "markdown",
   "id": "2f220b9f",
   "metadata": {
    "id": "2f220b9f"
   },
   "source": [
    "### Data collecting function"
   ]
  },
  {
   "cell_type": "code",
   "execution_count": null,
   "id": "0168f7eb",
   "metadata": {
    "id": "0168f7eb"
   },
   "outputs": [],
   "source": [
    "def initial_states_to_list(random_sampling_file):\n",
    "    initial_states = list()\n",
    "    f = open(random_sampling_file, \"r\")\n",
    "    for line in f:\n",
    "        brir, file = line.split(\" \")\n",
    "        initial_states.append((brir, file.removesuffix(\"\\n\")))\n",
    "    f.close()\n",
    "    return initial_states"
   ]
  },
  {
   "cell_type": "markdown",
   "id": "6b48c243",
   "metadata": {
    "id": "6b48c243"
   },
   "source": [
    "## Deep Q-network"
   ]
  },
  {
   "cell_type": "code",
   "execution_count": null,
   "id": "f9d12bec",
   "metadata": {
    "id": "f9d12bec"
   },
   "outputs": [],
   "source": [
    "class DQN(nn.Module):\n",
    "    def __init__(self, n_observations, n_angles):\n",
    "        super(DQN, self).__init__()\n",
    "        self.n_hidden = 1000\n",
    "        self.gru1 = nn.GRU(n_observations, 256, 1, batch_first=True, bidirectional=False)\n",
    "        self.gru2 = nn.GRU(256, 128, 1, batch_first=True, bidirectional=False)\n",
    "        self.gru3 = nn.GRU(128, 64, 1, batch_first=True, bidirectional=False)\n",
    "        self.fc = nn.Linear(64*2, n_angles)\n",
    "        self.dropout20 = nn.Dropout(p=0.2)\n",
    "        self.dropout50 = nn.Dropout(p=0.5)\n",
    "\n",
    "    def forward(self, x):\n",
    "        x, _ = self.gru1(x)\n",
    "        x = self.dropout20(x)\n",
    "        x, _ = self.gru2(x)\n",
    "        x = self.dropout20(x)\n",
    "        x, _ = self.gru3(x)\n",
    "        x = self.dropout50(x)\n",
    "        x = torch.cat((x[:,0,:],x[:,1,:]), dim=1)\n",
    "        x = self.fc(x)\n",
    "        return x"
   ]
  },
  {
   "cell_type": "markdown",
   "id": "2211ee2f",
   "metadata": {
    "id": "2211ee2f"
   },
   "source": [
    "## Memory buffer"
   ]
  },
  {
   "cell_type": "code",
   "execution_count": null,
   "id": "ab0a5f9c",
   "metadata": {
    "id": "ab0a5f9c"
   },
   "outputs": [],
   "source": [
    "class MemoryBuffer():\n",
    "    def __init__(self, buffer_length, batch_size):\n",
    "        self.buffer_length = buffer_length\n",
    "        self.idx = 0\n",
    "        self.s_buffer = torch.zeros((self.buffer_length, 2, 4000))\n",
    "        self.a_buffer = torch.zeros((self.buffer_length, 1), dtype=torch.int)\n",
    "        self.s1_buffer = torch.zeros((self.buffer_length, 2, 4000))\n",
    "        self.r_buffer = torch.zeros((self.buffer_length, 1))\n",
    "        self.t_buffer = torch.zeros((self.buffer_length, 1), dtype=torch.bool)\n",
    "        self.batch_size = batch_size\n",
    "\n",
    "    def add_into_buffer(self, s, a, s_prime, r, t):\n",
    "        \"\"\"\n",
    "        Function that adds a <s,a,s',r> tuple into the buffer.\n",
    "        s: state\n",
    "        a: action\n",
    "        s_prime: new state\n",
    "        r: reward\n",
    "        \"\"\"\n",
    "        self.s_buffer[self.idx % self.buffer_length] = s\n",
    "        self.a_buffer[self.idx % self.buffer_length] = torch.tensor([a], dtype=torch.int)\n",
    "        self.s1_buffer[self.idx % self.buffer_length] = s_prime\n",
    "        self.r_buffer[self.idx % self.buffer_length] = torch.tensor([r])\n",
    "        self.t_buffer[self.idx % self.buffer_length] = torch.tensor([t], dtype=torch.bool)\n",
    "        if self.idx < self.buffer_length:\n",
    "            self.idx += 1\n",
    "        else:\n",
    "            self.idx += 2\n",
    "\n",
    "\n",
    "    def sample_from_buffer(self):\n",
    "        \"\"\"\n",
    "        Function that returns random samples from the buffer.\n",
    "        \"\"\"\n",
    "        indices = torch.randperm(min(self.idx, self.batch_size))[:self.batch_size]\n",
    "        return self.s_buffer[indices], self.a_buffer[indices], \\\n",
    "        self.s1_buffer[indices], self.r_buffer[indices], self.t_buffer[indices]\n",
    "\n",
    "\n",
    "class BalancedMemoryBuffer():\n",
    "    def __init__(self, batch_size, num_classes, az_angles, el_angles):\n",
    "        self.device = torch.device(\"cuda\")\n",
    "\n",
    "        self.az_angles = az_angles\n",
    "        self.el_angles = el_angles\n",
    "\n",
    "        self.buffer_length = 100000\n",
    "        self.start_buffer_length = 5000\n",
    "        self.class_buffer_length = 1000\n",
    "        self.num_classes = 65\n",
    "        self.batch_size = batch_size\n",
    "\n",
    "        self.start_s = torch.empty((self.start_buffer_length, 2, 4000), dtype=torch.float).to(self.device)\n",
    "        self.start_a = torch.empty((self.start_buffer_length, 1), dtype=torch.int).to(self.device)\n",
    "        self.start_s1 = torch.empty((self.start_buffer_length, 2, 4000), dtype=torch.float).to(self.device)\n",
    "        self.start_r = torch.empty((self.start_buffer_length, 1), dtype=torch.float).to(self.device)\n",
    "        self.start_t = torch.empty((self.start_buffer_length, 1), dtype=torch.bool).to(self.device)\n",
    "\n",
    "        self.class_s = torch.empty((num_classes, self.class_buffer_length, 2, 4000), dtype=torch.float).to(self.device)\n",
    "        self.class_a = torch.empty((num_classes, self.class_buffer_length, 1), dtype=torch.int).to(self.device)\n",
    "        self.class_s1 = torch.empty((num_classes, self.class_buffer_length, 2, 4000), dtype=torch.float).to(self.device)\n",
    "        self.class_r = torch.empty((num_classes, self.class_buffer_length, 1), dtype=torch.float).to(self.device)\n",
    "        self.class_t = torch.empty((num_classes, self.class_buffer_length, 1), dtype=torch.bool).to(self.device)\n",
    "\n",
    "        self.idx = 0\n",
    "        self.class_idxs = torch.zeros(num_classes, dtype=torch.int, device=self.device)\n",
    "\n",
    "\n",
    "    def find_idx(self, az, el):\n",
    "        az_angle_idx = self.az_angles.index(az)\n",
    "        el_angle_idx = self.el_angles.index(el)\n",
    "\n",
    "        return az_angle_idx + el_angle_idx*len(self.az_angles)\n",
    "\n",
    "    def add_into_buffer(self, s, a, s_prime, r, t, az, el):\n",
    "        \"\"\"\n",
    "        Function that adds a <s,a,s',r> tuple into the buffer for a specific class.\n",
    "        s: state\n",
    "        a: action\n",
    "        s_prime: new state\n",
    "        r: reward\n",
    "        t: terminal state\n",
    "        az: azimuth angle\n",
    "        el: elevation angle\n",
    "        \"\"\"\n",
    "        if self.idx < self.start_buffer_length:\n",
    "            self.start_s[self.idx] = s\n",
    "            self.start_a[self.idx] = torch.tensor([a], dtype=torch.int)\n",
    "            self.start_s1[self.idx] = s_prime\n",
    "            self.start_r[self.idx] = torch.tensor([r])\n",
    "            self.start_t[self.idx] = torch.tensor([t], dtype=torch.bool)\n",
    "\n",
    "            self.idx += 1\n",
    "        else:\n",
    "            class_idx = self.find_idx(az, el)\n",
    "            idx_for_class = self.class_idxs[class_idx]\n",
    "\n",
    "            self.class_s[class_idx, int(idx_for_class)%self.class_buffer_length] = s\n",
    "            self.class_a[class_idx, int(idx_for_class)%self.class_buffer_length] = torch.tensor([a], dtype=torch.int)\n",
    "            self.class_s1[class_idx, int(idx_for_class)%self.class_buffer_length] = s_prime\n",
    "            self.class_r[class_idx, int(idx_for_class)%self.class_buffer_length] = torch.tensor([r])\n",
    "            self.class_t[class_idx, int(idx_for_class)%self.class_buffer_length] = torch.tensor([t], dtype=torch.bool)\n",
    "\n",
    "            if idx_for_class % 20 == 0:\n",
    "                indices = torch.cat(\n",
    "                    (torch.randperm(\n",
    "                        min(\n",
    "                            idx_for_class.item(), self.class_buffer_length)\n",
    "                        ),\n",
    "                    torch.arange(\n",
    "                        start=min(\n",
    "                            idx_for_class.item(), self.class_buffer_length), end=self.class_buffer_length)\n",
    "                    )).to(self.device)\n",
    "\n",
    "                self.class_s[class_idx] = self.class_s[class_idx, indices, :, :]\n",
    "                self.class_a[class_idx] = self.class_a[class_idx, indices, :]\n",
    "                self.class_s1[class_idx] = self.class_s1[class_idx, indices, :, :]\n",
    "                self.class_r[class_idx] = self.class_r[class_idx, indices, :]\n",
    "                self.class_t[class_idx] = self.class_t[class_idx, indices, :]\n",
    "\n",
    "            self.class_idxs[class_idx] += 1\n",
    "\n",
    "    def sample_from_buffer(self):\n",
    "        \"\"\"\n",
    "        Function that returns random samples from the buffer with equal representation from each class.\n",
    "        \"\"\"\n",
    "        if self.idx < self.start_buffer_length:\n",
    "            indices = torch.randperm(min(self.idx, self.start_buffer_length))[:self.batch_size]\n",
    "            return self.start_s[indices], self.start_a[indices], \\\n",
    "            self.start_s1[indices], self.start_r[indices], self.start_t[indices]\n",
    "        else:\n",
    "            min_class_idx = torch.min(self.class_idxs)\n",
    "            cut_s = self.class_s[:,:min_class_idx,:,:]\n",
    "            cut_a = self.class_a[:,:min_class_idx,:]\n",
    "            cut_s1 = self.class_s1[:,:min_class_idx,:,:]\n",
    "            cut_r = self.class_r[:,:min_class_idx,:]\n",
    "            cut_t = self.class_t[:,:min_class_idx,:]\n",
    "\n",
    "            flat_s = cut_s.reshape(-1, cut_s.size(2), cut_s.size(3))\n",
    "            flat_a = cut_a.reshape(-1, cut_a.size(2))\n",
    "            flat_s1 = cut_s1.reshape(-1, cut_s1.size(2), cut_s1.size(3))\n",
    "            flat_r = cut_r.reshape(-1, cut_r.size(2))\n",
    "            flat_t = cut_t.reshape(-1, cut_t.size(2))\n",
    "\n",
    "            total_s = torch.cat((self.start_s, flat_s), axis=0)\n",
    "            total_a = torch.cat((self.start_a, flat_a), axis=0)\n",
    "            total_s1 = torch.cat((self.start_s1, flat_s1), axis=0)\n",
    "            total_r = torch.cat((self.start_r, flat_r), axis=0)\n",
    "            total_t = torch.cat((self.start_t, flat_t), axis=0)\n",
    "\n",
    "            # print(total_a)\n",
    "            max_index = total_s.size(0)\n",
    "\n",
    "            indices = torch.randperm(max_index)[:self.batch_size]#.to(self.device)\n",
    "            return total_s[indices], total_a[indices], total_s1[indices], total_r[indices], total_t[indices]\n",
    "\n",
    "\n",
    "\n"
   ]
  },
  {
   "cell_type": "markdown",
   "id": "476e1792",
   "metadata": {
    "id": "476e1792"
   },
   "source": [
    "## Environment"
   ]
  },
  {
   "cell_type": "code",
   "execution_count": null,
   "id": "b05082f3",
   "metadata": {
    "id": "b05082f3"
   },
   "outputs": [],
   "source": [
    "class environment():\n",
    "\n",
    "    def __init__(self, fs, n_windows, length_windows, az_angles, el_angles, random_sampling_file, target_network, policy_network, memory_buffer, n_actions, actions, device):\n",
    "        self.device=device\n",
    "        self.fs = fs\n",
    "        self.n_windows = n_windows\n",
    "        self.length_windows = length_windows\n",
    "        self.az_angles = az_angles\n",
    "        self.el_angles = el_angles\n",
    "        self.init_states = initial_states_to_list(random_sampling_file)\n",
    "        self.target_network = target_network.to(device)\n",
    "        self.policy_network = policy_network.to(device)\n",
    "        self.memory_buffer = memory_buffer\n",
    "        self.actions = actions\n",
    "        self.n_actions = n_actions\n",
    "        self.batch_size = 1024\n",
    "        self.criterion = nn.SmoothL1Loss()\n",
    "        self.lr = 0.00025\n",
    "        self.optimizer = torch.optim.AdamW(self.policy_network.parameters(), lr=self.lr, amsgrad=True)\n",
    "        self.gamma = 0.99\n",
    "\n",
    "    def get_initial_state(self, idx):\n",
    "        \"\"\"\n",
    "        Gives a new sample and initial BRIR/state for a new epoch.\n",
    "        idx: the index of the new epoch.\n",
    "        Returns: a tuple with the new BRIR and new sample.\n",
    "        \"\"\"\n",
    "        return self.init_states[idx]\n",
    "\n",
    "    def open_sample_split(self, sample_name):\n",
    "        \"\"\"\n",
    "        Gets the data of the sample, and splits it into the amount of specified windows.\n",
    "        sample_name: the name of the sample.\n",
    "        Returns: a 2D array with the sample split into windows.\n",
    "        \"\"\"\n",
    "        sample, _ = torchaudio.load(\"samples_10s/\"+sample_name, format=\"flac\")\n",
    "        sample = sample[:,::2]\n",
    "        return sample.reshape((self.n_windows,-1))\n",
    "\n",
    "    def get_azel_from_brir(self, brir_name):\n",
    "        return brir_name.split(\"_\")[16], brir_name.split(\"_\")[18][:3]\n",
    "\n",
    "    def open_brir(self, brir_name):\n",
    "        \"\"\"\n",
    "        Opens the BRIR given the name of the BRIR.\n",
    "        Downsamples the BRIR, as BRIR has Fs=16000Hz and the samples Fs=8000Hz\n",
    "        brir_name: the name of the BRIR.\n",
    "        Returns: the two channels (for each ear) of the BRIR.\n",
    "        \"\"\"\n",
    "        brir, brir_fs = torchaudio.load(\"BRIRs_downsampled/\"+brir_name, format=\"wav\")\n",
    "        return brir[:,::2]\n",
    "\n",
    "    def convolve_sound(self, window, brir):\n",
    "        \"\"\"\n",
    "        Convolves the BRIR with the window, and cuts result at the size of the window length.\n",
    "        window: the window of the sample that should be convolved.\n",
    "\n",
    "        \"\"\"\n",
    "        return torchaudio.functional.convolve(window.repeat([2,1]), brir)[:,:self.length_windows]\n",
    "        # return torchaudio.functional.convolve(windows[0].reshape(1,-1).repeat([2,1]), brir)[:,:self.length_windows]\n",
    "\n",
    "    def get_Q_values_from_state(self, observation):\n",
    "        \"\"\"\n",
    "        Puts observation into target network and chooses actions\n",
    "        observation: the sample convolved with the HRTF\n",
    "        \"\"\"\n",
    "        return self.target_network(observation)\n",
    "\n",
    "    def get_best_actions_from_Q_values(self, Q_values):\n",
    "        \"\"\"\n",
    "        Chooses the best action index given the Q-values for the azimuth and elevation angle rotation.\n",
    "        Q_values: the Q-values as returned by the target network.\n",
    "        Returns: index of the best action\n",
    "        \"\"\"\n",
    "        return torch.argmax(Q_values)\n",
    "        # return torch.min(torch.floor(torch.add(Q_values, 1)*(self.n_directions/2)),torch.tensor(self.n_directions-1))\n",
    "\n",
    "    def sample_action_epsilon_greedily(self, best_action, epsilon):\n",
    "        \"\"\"\n",
    "        Samples an action epsilon-greedily.\n",
    "        best_actions: the index of the best actions.\n",
    "        epsilon: the greediness parameter.\n",
    "        Returns: the actions [az,el].\n",
    "        \"\"\"\n",
    "        p_best_action = 1 - epsilon + epsilon/self.n_actions\n",
    "        p_action = epsilon/self.n_actions\n",
    "        probability_table = np.full(self.n_actions, p_action)\n",
    "        probability_table[best_action] = p_best_action\n",
    "        index = np.random.choice(np.arange(self.n_actions), p=probability_table)\n",
    "        return self.actions[index], index\n",
    "\n",
    "    def take_action(self, actions, az, el, goal_az, goal_el):\n",
    "        \"\"\"\n",
    "        Finds the next azimuth and elevation angle after taking the action.\n",
    "        actions: a tensor with two values for the azimuth and elevation angles.\n",
    "        current_brir: the current filename.\n",
    "        Returns: the new azimuth angle and the new elevation angle, after taking the action, as well as the old angles.\n",
    "        \"\"\"\n",
    "\n",
    "        current_az_angle_idx = self.az_angles.index(az)\n",
    "        current_el_angle_idx = self.el_angles.index(el)\n",
    "\n",
    "        dev_az, dev_el = self.get_orientation_deviation(az, el, goal_az, goal_el)\n",
    "\n",
    "        dev_az_idx, dev_el_idx = self.az_angles.index(dev_az), self.el_angles.index(dev_el)\n",
    "\n",
    "        az_mov, el_mov = actions\n",
    "\n",
    "        if current_az_angle_idx + az_mov >= len(self.az_angles) or \\\n",
    "          current_az_angle_idx + az_mov < 0 or \\\n",
    "          current_el_angle_idx + el_mov >= len(self.el_angles) or \\\n",
    "          current_el_angle_idx + el_mov < 0 or \\\n",
    "          dev_az_idx + az_mov >= len(self.az_angles) or \\\n",
    "          dev_az_idx + az_mov < 0 or \\\n",
    "          dev_el_idx + el_mov >= len(self.el_angles) or \\\n",
    "          dev_el_idx + el_mov < 0:\n",
    "            return self.az_angles[current_az_angle_idx], self.el_angles[current_el_angle_idx]\n",
    "\n",
    "        return self.az_angles[current_az_angle_idx + az_mov], self.el_angles[current_el_angle_idx + el_mov]\n",
    "\n",
    "    def get_reward(self, new_az, new_el, old_az, old_el, goal_az, goal_el):\n",
    "        \"\"\"\n",
    "        Gives reward based on Manhattan distance.\n",
    "        new_az: the new azimuth angle\n",
    "        new_el: the new elevation angle\n",
    "        current_brir: the name of the BRIR\n",
    "        \"\"\"\n",
    "        ## REWARD FUNCTION BASED ON BEST MOVE CP GOAL W/ EUCLIDEAN:\n",
    "        if new_az == \"000\" and new_el == \"000\":\n",
    "            return 1\n",
    "\n",
    "        if new_az == old_az and new_el == old_az:\n",
    "            return -1\n",
    "\n",
    "        dists = np.zeros(n_actions)\n",
    "        for i, action in enumerate(self.actions):\n",
    "            temp_az, temp_el = self.take_action(action, old_az, old_el, goal_az, goal_el)\n",
    "            dists[i] = np.sqrt((self.az_angles.index(temp_az) - self.az_angles.index(\"000\"))**2 + (self.el_angles.index(temp_el) - self.el_angles.index(\"000\"))**2)\n",
    "        optimal_dist = np.min(dists)\n",
    "        actual_dist = np.sqrt((self.az_angles.index(new_az) - self.az_angles.index(\"000\"))**2 + (self.el_angles.index(new_el) - self.el_angles.index(\"000\"))**2)\n",
    "        old_dist = np.sqrt((self.az_angles.index(old_az) - self.az_angles.index(\"000\"))**2 + (self.el_angles.index(old_el) - self.el_angles.index(\"000\"))**2)\n",
    "\n",
    "        if optimal_dist == actual_dist:\n",
    "            return 0.1    # Optimal distance improvement\n",
    "        elif old_dist > actual_dist:\n",
    "            return 0      # Suboptimal distance improvement\n",
    "        else:\n",
    "            return -0.2   # Distance detoriation\n",
    "\n",
    "    def next_state(self, current_brir, new_az, new_el):\n",
    "        \"\"\"\n",
    "        Finds the name of the next BRIR.\n",
    "        current_brir: the name of the current brir\n",
    "        new_az: the new azimuth angle after the action.\n",
    "        el_mov: the new elevation angle after the action.\n",
    "        Returns: the filename of the BRIR.\n",
    "        \"\"\"\n",
    "\n",
    "        brir_name = current_brir.split(\"_\")\n",
    "        brir_name[16] = new_az\n",
    "        brir_name[18] = new_el+\".wav\"\n",
    "\n",
    "        return \"_\".join(brir_name)\n",
    "\n",
    "    def is_terminal(self, az, el):\n",
    "        \"\"\"\n",
    "        Returns whether the agent is on a terminal state (when the speaker and agent have the smae angle)\n",
    "        \"\"\"\n",
    "        return az == \"000\" and el == \"000\"\n",
    "\n",
    "    def append_buffer(self, observation, action_indices, new_observation, reward, terminal, az, el):\n",
    "        self.memory_buffer.add_into_buffer(observation, action_indices, new_observation, reward, terminal, az, el)\n",
    "\n",
    "    def train_model(self):\n",
    "        if self.memory_buffer.idx < 1+self.batch_size:\n",
    "            return\n",
    "\n",
    "        s_batch, a_batch, s1_batch, r_batch, t_batch = self.memory_buffer.sample_from_buffer()\n",
    "        a_batch = a_batch.type(torch.int64)\n",
    "\n",
    "        s_batch = s_batch.to(device)\n",
    "        a_batch = a_batch.to(device)\n",
    "        s1_batch = s1_batch.to(device)\n",
    "        r_batch = r_batch.to(device)\n",
    "        t_batch = t_batch.to(device)\n",
    "\n",
    "        Q_vals = self.policy_network(s_batch).to(device)\n",
    "\n",
    "        Q_vals = Q_vals.gather(1, a_batch).squeeze(1)\n",
    "\n",
    "        with torch.no_grad():\n",
    "            Q1_vals = self.target_network(s1_batch).max(1)[0].detach().to(device)\n",
    "\n",
    "        target_Q_vals = r_batch.squeeze(1) + self.gamma * Q1_vals * (~t_batch.squeeze(1))\n",
    "\n",
    "        loss = nn.functional.mse_loss(Q_vals, target_Q_vals)\n",
    "\n",
    "        self.optimizer.zero_grad()\n",
    "        loss.backward()\n",
    "        self.optimizer.step()\n",
    "\n",
    "        return loss.item()\n",
    "\n",
    "    def distance(self, az, el):\n",
    "        return max(abs(self.az_angles.index(az) - self.az_angles.index(\"000\")), abs(self.el_angles.index(el) - self.el_angles.index(\"000\")))\n",
    "\n",
    "    def get_orientation_deviation(self, az, el, goal_az, goal_el):\n",
    "        mid_az = len(self.az_angles)//2\n",
    "        mid_el = len(self.el_angles)//2\n",
    "        az_dev = (self.az_angles.index(az)-mid_az) - (self.az_angles.index(goal_az)-mid_az)\n",
    "        el_dev = (self.el_angles.index(el)-mid_el) - (self.el_angles.index(goal_el)-mid_el)\n",
    "        # print(az, el, goal_az, goal_el, az_dev, el_dev)\n",
    "\n",
    "        return self.az_angles[az_dev], self.el_angles[el_dev]\n",
    "\n",
    "    def get_orientation_deviation_from_brir(self, brir_name):\n",
    "        brir = brir_name.split(\"_\")\n",
    "\n",
    "        mid_az = len(self.az_angles)//2\n",
    "        mid_el = len(self.el_angles)//2\n",
    "\n",
    "        az_dev = (self.az_angles.index(brir[16])-mid_az) - (self.az_angles.index(brir[12])-mid_az)\n",
    "        el_dev = (self.el_angles.index(brir[18][:3])-mid_el) - (self.el_angles.index(brir[14])-mid_el)\n",
    "        # print(az_dev, el_dev)\n",
    "\n",
    "        return self.az_angles[az_dev], self.el_angles[el_dev]"
   ]
  },
  {
   "cell_type": "code",
   "execution_count": null,
   "id": "430129c0",
   "metadata": {
    "id": "430129c0"
   },
   "outputs": [],
   "source": [
    "n_observations = 4000\n",
    "n_actions = 8\n",
    "actions = torch.tensor([[-1,-1],[-1,0],[-1,1],[0,-1],[0,1],[1,-1],[1,0],[1,1]])\n",
    "\n",
    "policy_network = DQN(n_observations, n_actions).to(device)\n",
    "target_network = DQN(n_observations, n_actions).to(device)\n",
    "\n",
    "# As weights of network get randomly initialized, copy all weights from target network into policy network\n",
    "policy_network.load_state_dict(target_network.state_dict())\n",
    "\n",
    "az_angles = [\"270\", \"285\", \"300\", \"315\", \"330\", \"345\", \"000\", \"015\", \"030\", \"045\", \"060\", \"075\", \"090\"]\n",
    "el_angles = [\"-45\", \"-20\", \"000\", \"020\", \"045\"]\n",
    "\n",
    "memory_buffer = BalancedMemoryBuffer(1024, 65, az_angles, el_angles)"
   ]
  },
  {
   "cell_type": "code",
   "execution_count": null,
   "id": "iN5jhGHXzTmc",
   "metadata": {
    "colab": {
     "base_uri": "https://localhost:8080/"
    },
    "id": "iN5jhGHXzTmc",
    "outputId": "87a0a334-2486-49d2-c950-5db229752c00"
   },
   "outputs": [
    {
     "name": "stdout",
     "output_type": "stream",
     "text": [
      "Drive already mounted at /content/drive; to attempt to forcibly remount, call drive.mount(\"/content/drive\", force_remount=True).\n"
     ]
    }
   ],
   "source": [
    "from google.colab import drive\n",
    "drive.mount('/content/drive')"
   ]
  },
  {
   "cell_type": "code",
   "execution_count": null,
   "id": "VRMPD3ECzHo2",
   "metadata": {
    "colab": {
     "base_uri": "https://localhost:8080/"
    },
    "id": "VRMPD3ECzHo2",
    "outputId": "18d0f4b7-67a6-4992-af99-6a4a72b1b9be"
   },
   "outputs": [
    {
     "name": "stdout",
     "output_type": "stream",
     "text": [
      "Archive:  /content/drive/My Drive/samples_10s.zip\n",
      "replace /content/samples_10s/speaker_01_sample_01.flac? [y]es, [n]o, [A]ll, [N]one, [r]ename: Archive:  /content/drive/My Drive/BRIRs_downsampled.zip\n",
      "replace /content/BRIRs_downsampled/BRIR_Room_01_RT60_0.6_gx_2.5_gy_7.5_gz_1.5_Az_000_El_000_HRotAz_000_HRotEl_000.wav? [y]es, [n]o, [A]ll, [N]one, [r]ename: "
     ]
    }
   ],
   "source": [
    "!unzip \"/content/drive/My Drive/samples_10s.zip\" -d \"/content\"\n",
    "!unzip \"/content/drive/My Drive/BRIRs_downsampled.zip\" -d \"/content\""
   ]
  },
  {
   "cell_type": "code",
   "execution_count": null,
   "id": "cc9f2b8d",
   "metadata": {
    "id": "cc9f2b8d"
   },
   "outputs": [],
   "source": [
    "# Making the environment\n",
    "fs = 8000\n",
    "n_windows = 20\n",
    "length_windows = 4000\n",
    "az_angles = [\"270\", \"285\", \"300\", \"315\", \"330\", \"345\", \"000\", \"015\", \"030\", \"045\", \"060\", \"075\", \"090\"]\n",
    "el_angles = [\"-45\", \"-20\", \"000\", \"020\", \"045\"]\n",
    "random_sampling_file = \"/content/drive/My Drive/random_sampling_file_brir_no_0.txt\"\n",
    "\n",
    "env = environment(fs, n_windows, length_windows, az_angles, el_angles, random_sampling_file, target_network, policy_network, memory_buffer, n_actions, actions, device)"
   ]
  },
  {
   "cell_type": "code",
   "execution_count": null,
   "id": "4092e58a",
   "metadata": {
    "colab": {
     "base_uri": "https://localhost:8080/",
     "height": 456
    },
    "id": "4092e58a",
    "outputId": "0d709341-55cc-4818-ca44-38fef972a27d"
   },
   "outputs": [
    {
     "name": "stdout",
     "output_type": "stream",
     "text": [
      "File output: BRIR_Room_01_RT60_0.6_gx_3.5_gy_2.5_gz_1.5_Az_090_El_-45_HRotAz_000_HRotEl_000.wav speaker_01_sample_10.flac\n",
      "000 000\n",
      "Windows shape: torch.Size([20, 4000])\n",
      "BRIR shape: torch.Size([2, 9472])\n",
      "One window shape: torch.Size([1, 4000])\n"
     ]
    },
    {
     "name": "stderr",
     "output_type": "stream",
     "text": [
      "<ipython-input-10-e51f85483388>:8: UserWarning: To copy construct from a tensor, it is recommended to use sourceTensor.clone().detach() or sourceTensor.clone().detach().requires_grad_(True), rather than torch.tensor(sourceTensor).\n",
      "  brir = torch.tensor(env.open_brir(brir_name), dtype=torch.float)\n"
     ]
    },
    {
     "name": "stdout",
     "output_type": "stream",
     "text": [
      "Observation shape: torch.Size([2, 4000])\n",
      "Q_value shape: torch.Size([1, 8])\n",
      "Q values: tensor([[-0.0326, -0.0613,  0.0477, -0.1424,  0.0153,  0.0349, -0.0178,  0.0703]],\n",
      "       device='cuda:0', grad_fn=<AddmmBackward0>)\n",
      "Best action index: tensor(7, device='cuda:0')\n",
      "Action sampled epsilon-greedily 4 tensor([0, 1])\n"
     ]
    },
    {
     "ename": "TypeError",
     "evalue": "environment.take_action() missing 2 required positional arguments: 'goal_az' and 'goal_el'",
     "output_type": "error",
     "traceback": [
      "\u001b[0;31m---------------------------------------------------------------------------\u001b[0m",
      "\u001b[0;31mTypeError\u001b[0m                                 Traceback (most recent call last)",
      "\u001b[0;32m<ipython-input-10-e51f85483388>\u001b[0m in \u001b[0;36m<cell line: 23>\u001b[0;34m()\u001b[0m\n\u001b[1;32m     21\u001b[0m \u001b[0maction\u001b[0m\u001b[0;34m,\u001b[0m \u001b[0mchosen_idx\u001b[0m \u001b[0;34m=\u001b[0m \u001b[0menv\u001b[0m\u001b[0;34m.\u001b[0m\u001b[0msample_action_epsilon_greedily\u001b[0m\u001b[0;34m(\u001b[0m\u001b[0maction_index\u001b[0m\u001b[0;34m,\u001b[0m \u001b[0;36m0.5\u001b[0m\u001b[0;34m)\u001b[0m\u001b[0;34m\u001b[0m\u001b[0;34m\u001b[0m\u001b[0m\n\u001b[1;32m     22\u001b[0m \u001b[0mprint\u001b[0m\u001b[0;34m(\u001b[0m\u001b[0;34m\"Action sampled epsilon-greedily\"\u001b[0m\u001b[0;34m,\u001b[0m \u001b[0mchosen_idx\u001b[0m\u001b[0;34m,\u001b[0m \u001b[0maction\u001b[0m\u001b[0;34m)\u001b[0m\u001b[0;34m\u001b[0m\u001b[0;34m\u001b[0m\u001b[0m\n\u001b[0;32m---> 23\u001b[0;31m \u001b[0mnew_az\u001b[0m\u001b[0;34m,\u001b[0m \u001b[0mnew_el\u001b[0m \u001b[0;34m=\u001b[0m \u001b[0menv\u001b[0m\u001b[0;34m.\u001b[0m\u001b[0mtake_action\u001b[0m\u001b[0;34m(\u001b[0m\u001b[0maction\u001b[0m\u001b[0;34m,\u001b[0m \u001b[0maz\u001b[0m\u001b[0;34m,\u001b[0m \u001b[0mel\u001b[0m\u001b[0;34m)\u001b[0m\u001b[0;34m\u001b[0m\u001b[0;34m\u001b[0m\u001b[0m\n\u001b[0m\u001b[1;32m     24\u001b[0m \u001b[0mprint\u001b[0m\u001b[0;34m(\u001b[0m\u001b[0mnew_az\u001b[0m\u001b[0;34m,\u001b[0m \u001b[0mnew_el\u001b[0m\u001b[0;34m)\u001b[0m\u001b[0;34m\u001b[0m\u001b[0;34m\u001b[0m\u001b[0m\n\u001b[1;32m     25\u001b[0m \u001b[0mreward\u001b[0m \u001b[0;34m=\u001b[0m \u001b[0menv\u001b[0m\u001b[0;34m.\u001b[0m\u001b[0mget_reward\u001b[0m\u001b[0;34m(\u001b[0m\u001b[0mnew_az\u001b[0m\u001b[0;34m,\u001b[0m \u001b[0mnew_el\u001b[0m\u001b[0;34m,\u001b[0m \u001b[0maz\u001b[0m\u001b[0;34m,\u001b[0m \u001b[0mel\u001b[0m\u001b[0;34m,\u001b[0m \u001b[0mbrir_name\u001b[0m\u001b[0;34m)\u001b[0m\u001b[0;34m\u001b[0m\u001b[0;34m\u001b[0m\u001b[0m\n",
      "\u001b[0;31mTypeError\u001b[0m: environment.take_action() missing 2 required positional arguments: 'goal_az' and 'goal_el'"
     ]
    }
   ],
   "source": [
    "# Testing environment functions\n",
    "brir_name, samp_name = env.get_initial_state(0)\n",
    "print(\"File output:\", brir_name, samp_name)\n",
    "az, el = env.get_azel_from_brir(brir_name)\n",
    "print(az, el)\n",
    "windows = env.open_sample_split(samp_name)\n",
    "print(\"Windows shape:\", windows.shape)\n",
    "brir = torch.tensor(env.open_brir(brir_name), dtype=torch.float)\n",
    "print(\"BRIR shape:\", brir.shape)\n",
    "print(\"One window shape:\", windows[0:1].shape)\n",
    "observation = env.convolve_sound(brir, windows[0:1])[0:2].to(device)\n",
    "# plt.figure()\n",
    "# plt.plot(hrtf.cpu().numpy().T)\n",
    "print(\"Observation shape:\", observation.shape)\n",
    "Audio(observation.cpu().numpy(), rate=fs)\n",
    "Q_vals = env.get_Q_values_from_state(observation.unsqueeze(0))\n",
    "print(\"Q_value shape:\", Q_vals.shape)\n",
    "print(\"Q values:\", Q_vals)\n",
    "action_index = env.get_best_actions_from_Q_values(Q_vals)\n",
    "print(\"Best action index:\", action_index)\n",
    "action, chosen_idx = env.sample_action_epsilon_greedily(action_index, 0.5)\n",
    "print(\"Action sampled epsilon-greedily\", chosen_idx, action)\n",
    "new_az, new_el = env.take_action(action, az, el)\n",
    "print(new_az, new_el)\n",
    "reward = env.get_reward(new_az, new_el, az, el, brir_name)\n",
    "print(reward)\n",
    "new_brir_name = env.next_state(brir_name, new_az, new_el)\n",
    "print(new_brir_name)\n",
    "print(env.distance(az, el, new_brir_name))"
   ]
  },
  {
   "cell_type": "code",
   "execution_count": null,
   "id": "c6b16847-8f05-4c11-825a-3a272ef1981a",
   "metadata": {
    "id": "c6b16847-8f05-4c11-825a-3a272ef1981a"
   },
   "outputs": [],
   "source": []
  },
  {
   "cell_type": "code",
   "execution_count": null,
   "id": "89456f42",
   "metadata": {
    "colab": {
     "base_uri": "https://localhost:8080/"
    },
    "id": "89456f42",
    "outputId": "5149904b-af2a-4a2b-9eac-c98d1bb955ed"
   },
   "outputs": [
    {
     "name": "stderr",
     "output_type": "stream",
     "text": [
      "\r",
      "  0%|          | 0/62400 [00:00<?, ?it/s]<ipython-input-9-40e61688af49>:26: UserWarning: To copy construct from a tensor, it is recommended to use sourceTensor.clone().detach() or sourceTensor.clone().detach().requires_grad_(True), rather than torch.tensor(sourceTensor).\n",
      "  brir = torch.tensor(env.open_brir(brir_name), dtype=torch.float, device=device)\n",
      "<ipython-input-9-40e61688af49>:48: UserWarning: To copy construct from a tensor, it is recommended to use sourceTensor.clone().detach() or sourceTensor.clone().detach().requires_grad_(True), rather than torch.tensor(sourceTensor).\n",
      "  brir = torch.tensor(env.open_brir(brir_name), dtype=torch.float, device=device)\n",
      "  0%|          | 1/62400 [00:00<5:43:26,  3.03it/s]"
     ]
    },
    {
     "name": "stdout",
     "output_type": "stream",
     "text": [
      "20.0 None -3.400000000000001\n"
     ]
    },
    {
     "name": "stderr",
     "output_type": "stream",
     "text": [
      "  0%|          | 242/62400 [00:31<2:26:35,  7.07it/s]"
     ]
    },
    {
     "name": "stdout",
     "output_type": "stream",
     "text": [
      "18.716666666666665 0.011919459328055382 -2.4933333333333336\n"
     ]
    },
    {
     "name": "stderr",
     "output_type": "stream",
     "text": [
      "  1%|          | 481/62400 [00:56<1:35:06, 10.85it/s]"
     ]
    },
    {
     "name": "stdout",
     "output_type": "stream",
     "text": [
      "18.354166666666668 0.007289710454642773 -2.700833333333334\n"
     ]
    },
    {
     "name": "stderr",
     "output_type": "stream",
     "text": [
      "  1%|          | 720/62400 [01:22<1:42:38, 10.02it/s]"
     ]
    },
    {
     "name": "stdout",
     "output_type": "stream",
     "text": [
      "17.958333333333332 0.0083667803555727 -2.220416666666667\n"
     ]
    },
    {
     "name": "stderr",
     "output_type": "stream",
     "text": [
      "  2%|▏         | 962/62400 [01:48<2:06:30,  8.09it/s]"
     ]
    },
    {
     "name": "stdout",
     "output_type": "stream",
     "text": [
      "16.85 0.008209912106394768 -1.9083333333333334\n"
     ]
    },
    {
     "name": "stderr",
     "output_type": "stream",
     "text": [
      "  2%|▏         | 1201/62400 [02:13<1:45:43,  9.65it/s]"
     ]
    },
    {
     "name": "stdout",
     "output_type": "stream",
     "text": [
      "17.754166666666666 0.007797291502356529 -2.0125\n"
     ]
    },
    {
     "name": "stderr",
     "output_type": "stream",
     "text": [
      "  2%|▏         | 1441/62400 [02:38<1:41:29, 10.01it/s]"
     ]
    },
    {
     "name": "stdout",
     "output_type": "stream",
     "text": [
      "17.3625 0.009397584944963455 -2.18875\n"
     ]
    },
    {
     "name": "stderr",
     "output_type": "stream",
     "text": [
      "  3%|▎         | 1682/62400 [03:04<2:21:03,  7.17it/s]"
     ]
    },
    {
     "name": "stdout",
     "output_type": "stream",
     "text": [
      "17.366666666666667 0.008356191217899323 -1.9475000000000002\n"
     ]
    },
    {
     "name": "stderr",
     "output_type": "stream",
     "text": [
      "  3%|▎         | 1922/62400 [03:29<1:45:19,  9.57it/s]"
     ]
    },
    {
     "name": "stdout",
     "output_type": "stream",
     "text": [
      "17.616666666666667 0.008034893311560154 -2.0783333333333336\n"
     ]
    },
    {
     "name": "stderr",
     "output_type": "stream",
     "text": [
      "  3%|▎         | 2162/62400 [03:54<1:42:31,  9.79it/s]"
     ]
    },
    {
     "name": "stdout",
     "output_type": "stream",
     "text": [
      "17.145833333333332 0.007430137135088444 -1.9645833333333333\n"
     ]
    },
    {
     "name": "stderr",
     "output_type": "stream",
     "text": [
      "  4%|▍         | 2402/62400 [04:20<2:15:45,  7.37it/s]"
     ]
    },
    {
     "name": "stdout",
     "output_type": "stream",
     "text": [
      "17.6375 0.008317342028021812 -2.2925\n"
     ]
    },
    {
     "name": "stderr",
     "output_type": "stream",
     "text": [
      "  4%|▍         | 2641/62400 [04:45<1:26:50, 11.47it/s]"
     ]
    },
    {
     "name": "stdout",
     "output_type": "stream",
     "text": [
      "17.204166666666666 0.006132647395133972 -1.8508333333333336\n"
     ]
    },
    {
     "name": "stderr",
     "output_type": "stream",
     "text": [
      "  5%|▍         | 2883/62400 [05:11<1:26:31, 11.46it/s]"
     ]
    },
    {
     "name": "stdout",
     "output_type": "stream",
     "text": [
      "17.275 0.007848935201764107 -1.9641666666666668\n"
     ]
    },
    {
     "name": "stderr",
     "output_type": "stream",
     "text": [
      "  5%|▌         | 3122/62400 [05:36<2:35:58,  6.33it/s]"
     ]
    },
    {
     "name": "stdout",
     "output_type": "stream",
     "text": [
      "17.4875 0.008231758140027523 -1.8441666666666667\n"
     ]
    },
    {
     "name": "stderr",
     "output_type": "stream",
     "text": [
      "  5%|▌         | 3362/62400 [06:01<1:30:02, 10.93it/s]"
     ]
    },
    {
     "name": "stdout",
     "output_type": "stream",
     "text": [
      "17.591666666666665 0.006992148235440254 -1.93\n"
     ]
    },
    {
     "name": "stderr",
     "output_type": "stream",
     "text": [
      "  6%|▌         | 3602/62400 [06:26<1:45:07,  9.32it/s]"
     ]
    },
    {
     "name": "stdout",
     "output_type": "stream",
     "text": [
      "16.9125 0.007430989760905504 -1.865\n"
     ]
    },
    {
     "name": "stderr",
     "output_type": "stream",
     "text": [
      "  6%|▌         | 3842/62400 [06:52<2:20:41,  6.94it/s]"
     ]
    },
    {
     "name": "stdout",
     "output_type": "stream",
     "text": [
      "17.766666666666666 0.006238493137061596 -1.9516666666666667\n"
     ]
    },
    {
     "name": "stderr",
     "output_type": "stream",
     "text": [
      "  7%|▋         | 4083/62400 [07:17<1:25:23, 11.38it/s]"
     ]
    },
    {
     "name": "stdout",
     "output_type": "stream",
     "text": [
      "17.229166666666668 0.007896431721746922 -1.759583333333333\n"
     ]
    },
    {
     "name": "stderr",
     "output_type": "stream",
     "text": [
      "  7%|▋         | 4322/62400 [07:43<1:37:54,  9.89it/s]"
     ]
    },
    {
     "name": "stdout",
     "output_type": "stream",
     "text": [
      "17.375 0.013255156576633453 -1.6454166666666665\n"
     ]
    },
    {
     "name": "stderr",
     "output_type": "stream",
     "text": [
      "  7%|▋         | 4562/62400 [08:07<1:49:49,  8.78it/s]"
     ]
    },
    {
     "name": "stdout",
     "output_type": "stream",
     "text": [
      "16.8125 0.009364219382405281 -1.5258333333333332\n"
     ]
    },
    {
     "name": "stderr",
     "output_type": "stream",
     "text": [
      "  8%|▊         | 4802/62400 [08:33<1:38:57,  9.70it/s]"
     ]
    },
    {
     "name": "stdout",
     "output_type": "stream",
     "text": [
      "17.591666666666665 0.009961327537894249 -1.596666666666667\n"
     ]
    },
    {
     "name": "stderr",
     "output_type": "stream",
     "text": [
      "  8%|▊         | 5042/62400 [08:58<1:42:08,  9.36it/s]"
     ]
    },
    {
     "name": "stdout",
     "output_type": "stream",
     "text": [
      "17.025 0.008869467303156853 -1.58375\n"
     ]
    },
    {
     "name": "stderr",
     "output_type": "stream",
     "text": [
      "  8%|▊         | 5282/62400 [09:22<1:46:57,  8.90it/s]"
     ]
    },
    {
     "name": "stdout",
     "output_type": "stream",
     "text": [
      "17.075 0.011477196589112282 -1.6454166666666667\n"
     ]
    },
    {
     "name": "stderr",
     "output_type": "stream",
     "text": [
      "  9%|▉         | 5522/62400 [09:48<1:33:43, 10.11it/s]"
     ]
    },
    {
     "name": "stdout",
     "output_type": "stream",
     "text": [
      "17.216666666666665 0.010285880416631699 -1.7204166666666665\n"
     ]
    },
    {
     "name": "stderr",
     "output_type": "stream",
     "text": [
      "  9%|▉         | 5762/62400 [10:13<2:10:44,  7.22it/s]"
     ]
    },
    {
     "name": "stdout",
     "output_type": "stream",
     "text": [
      "17.058333333333334 0.01911076158285141 -1.5695833333333333\n"
     ]
    },
    {
     "name": "stderr",
     "output_type": "stream",
     "text": [
      " 10%|▉         | 6002/62400 [10:38<1:39:36,  9.44it/s]"
     ]
    },
    {
     "name": "stdout",
     "output_type": "stream",
     "text": [
      "17.516666666666666 0.013705292716622353 -1.71\n"
     ]
    },
    {
     "name": "stderr",
     "output_type": "stream",
     "text": [
      " 10%|█         | 6242/62400 [11:04<1:47:14,  8.73it/s]"
     ]
    },
    {
     "name": "stdout",
     "output_type": "stream",
     "text": [
      "17.25 0.015920380130410194 -1.72375\n"
     ]
    },
    {
     "name": "stderr",
     "output_type": "stream",
     "text": [
      " 10%|█         | 6482/62400 [11:30<2:11:08,  7.11it/s]"
     ]
    },
    {
     "name": "stdout",
     "output_type": "stream",
     "text": [
      "17.158333333333335 0.015317600220441818 -1.5429166666666665\n"
     ]
    },
    {
     "name": "stderr",
     "output_type": "stream",
     "text": [
      " 11%|█         | 6721/62400 [11:54<1:33:57,  9.88it/s]"
     ]
    },
    {
     "name": "stdout",
     "output_type": "stream",
     "text": [
      "17.408333333333335 0.018804041668772697 -1.6087500000000001\n"
     ]
    },
    {
     "name": "stderr",
     "output_type": "stream",
     "text": [
      " 11%|█         | 6961/62400 [12:20<1:33:06,  9.92it/s]"
     ]
    },
    {
     "name": "stdout",
     "output_type": "stream",
     "text": [
      "16.758333333333333 0.01782229170203209 -1.5566666666666669\n"
     ]
    },
    {
     "name": "stderr",
     "output_type": "stream",
     "text": [
      " 12%|█▏        | 7202/62400 [12:46<2:20:07,  6.57it/s]"
     ]
    },
    {
     "name": "stdout",
     "output_type": "stream",
     "text": [
      "16.916666666666668 0.02202800288796425 -1.4620833333333332\n"
     ]
    },
    {
     "name": "stderr",
     "output_type": "stream",
     "text": [
      " 12%|█▏        | 7441/62400 [13:10<1:30:14, 10.15it/s]"
     ]
    },
    {
     "name": "stdout",
     "output_type": "stream",
     "text": [
      "16.795833333333334 0.021627357229590416 -1.4583333333333333\n"
     ]
    },
    {
     "name": "stderr",
     "output_type": "stream",
     "text": [
      " 12%|█▏        | 7682/62400 [13:36<1:39:15,  9.19it/s]"
     ]
    },
    {
     "name": "stdout",
     "output_type": "stream",
     "text": [
      "16.916666666666668 0.023328714072704315 -1.5008333333333332\n"
     ]
    },
    {
     "name": "stderr",
     "output_type": "stream",
     "text": [
      " 13%|█▎        | 7921/62400 [14:02<2:11:04,  6.93it/s]"
     ]
    },
    {
     "name": "stdout",
     "output_type": "stream",
     "text": [
      "16.7 0.022075414657592773 -1.4520833333333334\n"
     ]
    },
    {
     "name": "stderr",
     "output_type": "stream",
     "text": [
      " 13%|█▎        | 8162/62400 [14:28<1:48:06,  8.36it/s]"
     ]
    },
    {
     "name": "stdout",
     "output_type": "stream",
     "text": [
      "17.283333333333335 0.02261280082166195 -1.64875\n"
     ]
    },
    {
     "name": "stderr",
     "output_type": "stream",
     "text": [
      " 13%|█▎        | 8402/62400 [14:54<1:28:55, 10.12it/s]"
     ]
    },
    {
     "name": "stdout",
     "output_type": "stream",
     "text": [
      "16.891666666666666 0.02148905023932457 -1.4154166666666668\n"
     ]
    },
    {
     "name": "stderr",
     "output_type": "stream",
     "text": [
      " 14%|█▍        | 8642/62400 [15:20<1:51:37,  8.03it/s]"
     ]
    },
    {
     "name": "stdout",
     "output_type": "stream",
     "text": [
      "17.245833333333334 0.024578072130680084 -1.725\n"
     ]
    },
    {
     "name": "stderr",
     "output_type": "stream",
     "text": [
      " 14%|█▍        | 8882/62400 [15:46<2:02:28,  7.28it/s]"
     ]
    },
    {
     "name": "stdout",
     "output_type": "stream",
     "text": [
      "17.1875 0.023218093439936638 -1.4304166666666667\n"
     ]
    },
    {
     "name": "stderr",
     "output_type": "stream",
     "text": [
      " 15%|█▍        | 9122/62400 [16:13<1:33:44,  9.47it/s]"
     ]
    },
    {
     "name": "stdout",
     "output_type": "stream",
     "text": [
      "16.770833333333332 0.025732021778821945 -1.5091666666666663\n"
     ]
    },
    {
     "name": "stderr",
     "output_type": "stream",
     "text": [
      " 15%|█▌        | 9362/62400 [16:39<1:23:36, 10.57it/s]"
     ]
    },
    {
     "name": "stdout",
     "output_type": "stream",
     "text": [
      "16.666666666666668 0.025236234068870544 -1.4012499999999999\n"
     ]
    },
    {
     "name": "stderr",
     "output_type": "stream",
     "text": [
      " 15%|█▌        | 9601/62400 [17:05<1:41:31,  8.67it/s]"
     ]
    },
    {
     "name": "stdout",
     "output_type": "stream",
     "text": [
      "16.654166666666665 0.0234387069940567 -1.3429166666666668\n"
     ]
    },
    {
     "name": "stderr",
     "output_type": "stream",
     "text": [
      " 16%|█▌        | 9842/62400 [17:32<1:13:06, 11.98it/s]"
     ]
    },
    {
     "name": "stdout",
     "output_type": "stream",
     "text": [
      "16.966666666666665 0.031097007915377617 -1.3824999999999998\n"
     ]
    },
    {
     "name": "stderr",
     "output_type": "stream",
     "text": [
      " 16%|█▌        | 10082/62400 [17:58<1:40:16,  8.70it/s]"
     ]
    },
    {
     "name": "stdout",
     "output_type": "stream",
     "text": [
      "16.4625 0.03007180243730545 -1.3445833333333335\n"
     ]
    },
    {
     "name": "stderr",
     "output_type": "stream",
     "text": [
      " 17%|█▋        | 10323/62400 [18:25<1:29:47,  9.67it/s]"
     ]
    },
    {
     "name": "stdout",
     "output_type": "stream",
     "text": [
      "16.65 0.02960880845785141 -1.3479166666666667\n"
     ]
    },
    {
     "name": "stderr",
     "output_type": "stream",
     "text": [
      " 17%|█▋        | 10562/62400 [18:52<1:52:50,  7.66it/s]"
     ]
    },
    {
     "name": "stdout",
     "output_type": "stream",
     "text": [
      "16.8125 0.027038803324103355 -1.4908333333333332\n"
     ]
    },
    {
     "name": "stderr",
     "output_type": "stream",
     "text": [
      " 17%|█▋        | 10802/62400 [19:18<1:27:00,  9.88it/s]"
     ]
    },
    {
     "name": "stdout",
     "output_type": "stream",
     "text": [
      "16.325 0.026531821116805077 -1.34625\n"
     ]
    },
    {
     "name": "stderr",
     "output_type": "stream",
     "text": [
      " 18%|█▊        | 11041/62400 [19:45<1:50:22,  7.76it/s]"
     ]
    },
    {
     "name": "stdout",
     "output_type": "stream",
     "text": [
      "17.425 0.0349617525935173 -1.4825000000000002\n"
     ]
    },
    {
     "name": "stderr",
     "output_type": "stream",
     "text": [
      " 18%|█▊        | 11282/62400 [20:14<1:45:05,  8.11it/s]"
     ]
    },
    {
     "name": "stdout",
     "output_type": "stream",
     "text": [
      "17.408333333333335 0.037031322717666626 -1.4445833333333333\n"
     ]
    },
    {
     "name": "stderr",
     "output_type": "stream",
     "text": [
      " 18%|█▊        | 11521/62400 [20:40<2:00:30,  7.04it/s]"
     ]
    },
    {
     "name": "stdout",
     "output_type": "stream",
     "text": [
      "16.654166666666665 0.027307327836751938 -1.395\n"
     ]
    },
    {
     "name": "stderr",
     "output_type": "stream",
     "text": [
      " 19%|█▉        | 11761/62400 [21:07<1:46:55,  7.89it/s]"
     ]
    },
    {
     "name": "stdout",
     "output_type": "stream",
     "text": [
      "17.204166666666666 0.03565928339958191 -1.605\n"
     ]
    },
    {
     "name": "stderr",
     "output_type": "stream",
     "text": [
      " 19%|█▉        | 12003/62400 [21:35<1:21:27, 10.31it/s]"
     ]
    },
    {
     "name": "stdout",
     "output_type": "stream",
     "text": [
      "17.15 0.036594390869140625 -1.434583333333333\n"
     ]
    },
    {
     "name": "stderr",
     "output_type": "stream",
     "text": [
      " 20%|█▉        | 12242/62400 [22:03<1:26:14,  9.69it/s]"
     ]
    },
    {
     "name": "stdout",
     "output_type": "stream",
     "text": [
      "16.945833333333333 0.035076480358839035 -1.44625\n"
     ]
    },
    {
     "name": "stderr",
     "output_type": "stream",
     "text": [
      " 20%|██        | 12482/62400 [22:31<1:30:18,  9.21it/s]"
     ]
    },
    {
     "name": "stdout",
     "output_type": "stream",
     "text": [
      "17.158333333333335 0.034461610019207 -1.4558333333333333\n"
     ]
    },
    {
     "name": "stderr",
     "output_type": "stream",
     "text": [
      " 20%|██        | 12722/62400 [22:59<2:06:32,  6.54it/s]"
     ]
    },
    {
     "name": "stdout",
     "output_type": "stream",
     "text": [
      "16.720833333333335 0.03131309151649475 -1.4274999999999998\n"
     ]
    },
    {
     "name": "stderr",
     "output_type": "stream",
     "text": [
      " 21%|██        | 12961/62400 [23:28<2:04:49,  6.60it/s]"
     ]
    },
    {
     "name": "stdout",
     "output_type": "stream",
     "text": [
      "18.079166666666666 0.038606803864240646 -1.7566666666666668\n"
     ]
    },
    {
     "name": "stderr",
     "output_type": "stream",
     "text": [
      " 21%|██        | 13201/62400 [23:56<1:47:01,  7.66it/s]"
     ]
    },
    {
     "name": "stdout",
     "output_type": "stream",
     "text": [
      "17.529166666666665 0.03933046758174896 -1.5904166666666666\n"
     ]
    },
    {
     "name": "stderr",
     "output_type": "stream",
     "text": [
      " 22%|██▏       | 13442/62400 [24:24<1:31:55,  8.88it/s]"
     ]
    },
    {
     "name": "stdout",
     "output_type": "stream",
     "text": [
      "16.866666666666667 0.031760137528181076 -1.4274999999999998\n"
     ]
    },
    {
     "name": "stderr",
     "output_type": "stream",
     "text": [
      " 22%|██▏       | 13681/62400 [24:53<1:38:36,  8.23it/s]"
     ]
    },
    {
     "name": "stdout",
     "output_type": "stream",
     "text": [
      "17.4125 0.04005146771669388 -1.5316666666666667\n"
     ]
    },
    {
     "name": "stderr",
     "output_type": "stream",
     "text": [
      " 22%|██▏       | 13922/62400 [25:22<1:38:24,  8.21it/s]"
     ]
    },
    {
     "name": "stdout",
     "output_type": "stream",
     "text": [
      "17.083333333333332 0.03461112827062607 -1.3916666666666666\n"
     ]
    },
    {
     "name": "stderr",
     "output_type": "stream",
     "text": [
      " 23%|██▎       | 14162/62400 [25:50<1:28:24,  9.09it/s]"
     ]
    },
    {
     "name": "stdout",
     "output_type": "stream",
     "text": [
      "17.195833333333333 0.03406795859336853 -1.4441666666666666\n"
     ]
    },
    {
     "name": "stderr",
     "output_type": "stream",
     "text": [
      " 23%|██▎       | 14401/62400 [26:17<1:48:18,  7.39it/s]"
     ]
    },
    {
     "name": "stdout",
     "output_type": "stream",
     "text": [
      "16.3125 0.03974558413028717 -1.322083333333333\n"
     ]
    },
    {
     "name": "stderr",
     "output_type": "stream",
     "text": [
      " 23%|██▎       | 14642/62400 [26:45<1:50:00,  7.23it/s]"
     ]
    },
    {
     "name": "stdout",
     "output_type": "stream",
     "text": [
      "16.804166666666667 0.04272417724132538 -1.3720833333333333\n"
     ]
    },
    {
     "name": "stderr",
     "output_type": "stream",
     "text": [
      " 24%|██▍       | 14882/62400 [27:13<1:35:24,  8.30it/s]"
     ]
    },
    {
     "name": "stdout",
     "output_type": "stream",
     "text": [
      "16.695833333333333 0.03989994525909424 -1.4179166666666665\n"
     ]
    },
    {
     "name": "stderr",
     "output_type": "stream",
     "text": [
      " 24%|██▍       | 15123/62400 [27:41<1:18:05, 10.09it/s]"
     ]
    },
    {
     "name": "stdout",
     "output_type": "stream",
     "text": [
      "16.645833333333332 0.03596247732639313 -1.3529166666666665\n"
     ]
    },
    {
     "name": "stderr",
     "output_type": "stream",
     "text": [
      " 25%|██▍       | 15362/62400 [28:10<1:36:16,  8.14it/s]"
     ]
    },
    {
     "name": "stdout",
     "output_type": "stream",
     "text": [
      "17.245833333333334 0.03886549174785614 -1.4845833333333334\n"
     ]
    },
    {
     "name": "stderr",
     "output_type": "stream",
     "text": [
      " 25%|██▌       | 15603/62400 [28:38<1:21:25,  9.58it/s]"
     ]
    },
    {
     "name": "stdout",
     "output_type": "stream",
     "text": [
      "16.975 0.04102574288845062 -1.3833333333333333\n"
     ]
    },
    {
     "name": "stderr",
     "output_type": "stream",
     "text": [
      " 25%|██▌       | 15842/62400 [29:06<2:04:07,  6.25it/s]"
     ]
    },
    {
     "name": "stdout",
     "output_type": "stream",
     "text": [
      "16.591666666666665 0.03987095504999161 -1.357083333333333\n"
     ]
    },
    {
     "name": "stderr",
     "output_type": "stream",
     "text": [
      " 26%|██▌       | 16082/62400 [29:34<1:35:18,  8.10it/s]"
     ]
    },
    {
     "name": "stdout",
     "output_type": "stream",
     "text": [
      "17.1875 0.044523224234580994 -1.4795833333333335\n"
     ]
    },
    {
     "name": "stderr",
     "output_type": "stream",
     "text": [
      " 26%|██▌       | 16321/62400 [30:01<1:32:10,  8.33it/s]"
     ]
    },
    {
     "name": "stdout",
     "output_type": "stream",
     "text": [
      "16.633333333333333 0.03841331601142883 -1.2945833333333332\n"
     ]
    },
    {
     "name": "stderr",
     "output_type": "stream",
     "text": [
      " 27%|██▋       | 16562/62400 [30:30<1:38:33,  7.75it/s]"
     ]
    },
    {
     "name": "stdout",
     "output_type": "stream",
     "text": [
      "16.808333333333334 0.048391714692115784 -1.3791666666666667\n"
     ]
    },
    {
     "name": "stderr",
     "output_type": "stream",
     "text": [
      " 27%|██▋       | 16802/62400 [30:59<1:37:29,  7.79it/s]"
     ]
    },
    {
     "name": "stdout",
     "output_type": "stream",
     "text": [
      "16.958333333333332 0.03981585055589676 -1.4137499999999998\n"
     ]
    },
    {
     "name": "stderr",
     "output_type": "stream",
     "text": [
      " 27%|██▋       | 17041/62400 [31:28<1:33:18,  8.10it/s]"
     ]
    },
    {
     "name": "stdout",
     "output_type": "stream",
     "text": [
      "17.841666666666665 0.047054436057806015 -1.5520833333333333\n"
     ]
    },
    {
     "name": "stderr",
     "output_type": "stream",
     "text": [
      " 28%|██▊       | 17282/62400 [31:56<1:29:52,  8.37it/s]"
     ]
    },
    {
     "name": "stdout",
     "output_type": "stream",
     "text": [
      "16.504166666666666 0.03933161869645119 -1.3566666666666665\n"
     ]
    },
    {
     "name": "stderr",
     "output_type": "stream",
     "text": [
      " 28%|██▊       | 17521/62400 [32:23<1:47:50,  6.94it/s]"
     ]
    },
    {
     "name": "stdout",
     "output_type": "stream",
     "text": [
      "16.479166666666668 0.05386616289615631 -1.4199999999999997\n"
     ]
    },
    {
     "name": "stderr",
     "output_type": "stream",
     "text": [
      " 28%|██▊       | 17761/62400 [32:52<1:30:18,  8.24it/s]"
     ]
    },
    {
     "name": "stdout",
     "output_type": "stream",
     "text": [
      "16.875 0.04505842924118042 -1.3779166666666665\n"
     ]
    },
    {
     "name": "stderr",
     "output_type": "stream",
     "text": [
      " 29%|██▉       | 18003/62400 [33:20<1:18:02,  9.48it/s]"
     ]
    },
    {
     "name": "stdout",
     "output_type": "stream",
     "text": [
      "16.629166666666666 0.0455179363489151 -1.35625\n"
     ]
    },
    {
     "name": "stderr",
     "output_type": "stream",
     "text": [
      " 29%|██▉       | 18241/62400 [33:49<1:30:18,  8.15it/s]"
     ]
    },
    {
     "name": "stdout",
     "output_type": "stream",
     "text": [
      "17.175 0.06132964417338371 -1.3483333333333332\n"
     ]
    },
    {
     "name": "stderr",
     "output_type": "stream",
     "text": [
      " 30%|██▉       | 18482/62400 [34:18<1:36:56,  7.55it/s]"
     ]
    },
    {
     "name": "stdout",
     "output_type": "stream",
     "text": [
      "17.420833333333334 0.046049751341342926 -1.3745833333333333\n"
     ]
    },
    {
     "name": "stderr",
     "output_type": "stream",
     "text": [
      " 30%|███       | 18721/62400 [34:47<1:26:45,  8.39it/s]"
     ]
    },
    {
     "name": "stdout",
     "output_type": "stream",
     "text": [
      "16.908333333333335 0.05447932705283165 -1.3549999999999998\n"
     ]
    },
    {
     "name": "stderr",
     "output_type": "stream",
     "text": [
      " 30%|███       | 18962/62400 [35:16<1:21:30,  8.88it/s]"
     ]
    },
    {
     "name": "stdout",
     "output_type": "stream",
     "text": [
      "17.195833333333333 0.050238341093063354 -1.3816666666666668\n"
     ]
    },
    {
     "name": "stderr",
     "output_type": "stream",
     "text": [
      " 31%|███       | 19201/62400 [35:44<1:35:55,  7.51it/s]"
     ]
    },
    {
     "name": "stdout",
     "output_type": "stream",
     "text": [
      "16.804166666666667 0.04073489084839821 -1.3354166666666667\n"
     ]
    },
    {
     "name": "stderr",
     "output_type": "stream",
     "text": [
      " 31%|███       | 19442/62400 [36:13<1:49:40,  6.53it/s]"
     ]
    },
    {
     "name": "stdout",
     "output_type": "stream",
     "text": [
      "17.0125 0.0523124635219574 -1.465\n"
     ]
    },
    {
     "name": "stderr",
     "output_type": "stream",
     "text": [
      " 32%|███▏      | 19682/62400 [36:42<1:33:29,  7.62it/s]"
     ]
    },
    {
     "name": "stdout",
     "output_type": "stream",
     "text": [
      "16.820833333333333 0.06078407168388367 -1.2808333333333333\n"
     ]
    },
    {
     "name": "stderr",
     "output_type": "stream",
     "text": [
      " 32%|███▏      | 19922/62400 [37:11<1:31:45,  7.72it/s]"
     ]
    },
    {
     "name": "stdout",
     "output_type": "stream",
     "text": [
      "17.3 0.05165574699640274 -1.42875\n"
     ]
    },
    {
     "name": "stderr",
     "output_type": "stream",
     "text": [
      " 32%|███▏      | 20162/62400 [37:39<1:23:07,  8.47it/s]"
     ]
    },
    {
     "name": "stdout",
     "output_type": "stream",
     "text": [
      "16.433333333333334 0.05840279534459114 -1.2399999999999998\n"
     ]
    },
    {
     "name": "stderr",
     "output_type": "stream",
     "text": [
      " 33%|███▎      | 20402/62400 [38:08<1:14:25,  9.40it/s]"
     ]
    },
    {
     "name": "stdout",
     "output_type": "stream",
     "text": [
      "16.8 0.05234260484576225 -1.3566666666666667\n"
     ]
    },
    {
     "name": "stderr",
     "output_type": "stream",
     "text": [
      " 33%|███▎      | 20643/62400 [38:37<1:11:59,  9.67it/s]"
     ]
    },
    {
     "name": "stdout",
     "output_type": "stream",
     "text": [
      "16.708333333333332 0.0593157596886158 -1.3270833333333334\n"
     ]
    },
    {
     "name": "stderr",
     "output_type": "stream",
     "text": [
      " 33%|███▎      | 20882/62400 [39:06<1:29:09,  7.76it/s]"
     ]
    },
    {
     "name": "stdout",
     "output_type": "stream",
     "text": [
      "17.158333333333335 0.04998213052749634 -1.3949999999999998\n"
     ]
    },
    {
     "name": "stderr",
     "output_type": "stream",
     "text": [
      " 34%|███▍      | 21121/62400 [39:34<1:34:30,  7.28it/s]"
     ]
    },
    {
     "name": "stdout",
     "output_type": "stream",
     "text": [
      "17.029166666666665 0.055734094232320786 -1.3983333333333332\n"
     ]
    },
    {
     "name": "stderr",
     "output_type": "stream",
     "text": [
      " 34%|███▍      | 21361/62400 [40:03<1:33:21,  7.33it/s]"
     ]
    },
    {
     "name": "stdout",
     "output_type": "stream",
     "text": [
      "16.691666666666666 0.04615180939435959 -1.3670833333333334\n"
     ]
    },
    {
     "name": "stderr",
     "output_type": "stream",
     "text": [
      " 35%|███▍      | 21602/62400 [40:32<1:26:31,  7.86it/s]"
     ]
    },
    {
     "name": "stdout",
     "output_type": "stream",
     "text": [
      "17.045833333333334 0.06663405150175095 -1.38125\n"
     ]
    },
    {
     "name": "stderr",
     "output_type": "stream",
     "text": [
      " 35%|███▌      | 21842/62400 [41:02<1:20:15,  8.42it/s]"
     ]
    },
    {
     "name": "stdout",
     "output_type": "stream",
     "text": [
      "17.575 0.06835703551769257 -1.5137500000000002\n"
     ]
    },
    {
     "name": "stderr",
     "output_type": "stream",
     "text": [
      " 35%|███▌      | 22082/62400 [41:31<1:24:45,  7.93it/s]"
     ]
    },
    {
     "name": "stdout",
     "output_type": "stream",
     "text": [
      "17.083333333333332 0.08078388124704361 -1.372083333333333\n"
     ]
    },
    {
     "name": "stderr",
     "output_type": "stream",
     "text": [
      " 36%|███▌      | 22322/62400 [42:00<1:25:07,  7.85it/s]"
     ]
    },
    {
     "name": "stdout",
     "output_type": "stream",
     "text": [
      "17.033333333333335 0.05846322700381279 -1.340833333333333\n"
     ]
    },
    {
     "name": "stderr",
     "output_type": "stream",
     "text": [
      " 36%|███▌      | 22562/62400 [42:29<1:24:34,  7.85it/s]"
     ]
    },
    {
     "name": "stdout",
     "output_type": "stream",
     "text": [
      "16.275 0.05365149676799774 -1.3470833333333334\n"
     ]
    },
    {
     "name": "stderr",
     "output_type": "stream",
     "text": [
      " 37%|███▋      | 22802/62400 [42:58<1:26:43,  7.61it/s]"
     ]
    },
    {
     "name": "stdout",
     "output_type": "stream",
     "text": [
      "17.391666666666666 0.07575047016143799 -1.4154166666666663\n"
     ]
    },
    {
     "name": "stderr",
     "output_type": "stream",
     "text": [
      " 37%|███▋      | 23042/62400 [43:28<1:30:59,  7.21it/s]"
     ]
    },
    {
     "name": "stdout",
     "output_type": "stream",
     "text": [
      "17.129166666666666 0.052432820200920105 -1.4354166666666666\n"
     ]
    },
    {
     "name": "stderr",
     "output_type": "stream",
     "text": [
      " 37%|███▋      | 23281/62400 [43:57<1:50:54,  5.88it/s]"
     ]
    },
    {
     "name": "stdout",
     "output_type": "stream",
     "text": [
      "16.754166666666666 0.06682898104190826 -1.3716666666666668\n"
     ]
    },
    {
     "name": "stderr",
     "output_type": "stream",
     "text": [
      " 38%|███▊      | 23521/62400 [44:26<1:23:51,  7.73it/s]"
     ]
    },
    {
     "name": "stdout",
     "output_type": "stream",
     "text": [
      "16.9875 0.05499274656176567 -1.4616666666666664\n"
     ]
    },
    {
     "name": "stderr",
     "output_type": "stream",
     "text": [
      " 38%|███▊      | 23761/62400 [44:55<1:30:55,  7.08it/s]"
     ]
    },
    {
     "name": "stdout",
     "output_type": "stream",
     "text": [
      "17.258333333333333 0.0523226372897625 -1.54\n"
     ]
    },
    {
     "name": "stderr",
     "output_type": "stream",
     "text": [
      " 38%|███▊      | 24002/62400 [45:24<1:13:34,  8.70it/s]"
     ]
    },
    {
     "name": "stdout",
     "output_type": "stream",
     "text": [
      "16.558333333333334 0.042532410472631454 -1.4041666666666666\n"
     ]
    },
    {
     "name": "stderr",
     "output_type": "stream",
     "text": [
      " 39%|███▉      | 24242/62400 [45:54<1:18:05,  8.14it/s]"
     ]
    },
    {
     "name": "stdout",
     "output_type": "stream",
     "text": [
      "17.095833333333335 0.07705346494913101 -1.4733333333333332\n"
     ]
    },
    {
     "name": "stderr",
     "output_type": "stream",
     "text": [
      " 39%|███▉      | 24481/62400 [46:22<1:02:06, 10.17it/s]"
     ]
    },
    {
     "name": "stdout",
     "output_type": "stream",
     "text": [
      "16.5 0.06480453908443451 -1.19125\n"
     ]
    },
    {
     "name": "stderr",
     "output_type": "stream",
     "text": [
      " 40%|███▉      | 24722/62400 [46:52<1:18:27,  8.00it/s]"
     ]
    },
    {
     "name": "stdout",
     "output_type": "stream",
     "text": [
      "17.116666666666667 0.06696400046348572 -1.3958333333333333\n"
     ]
    },
    {
     "name": "stderr",
     "output_type": "stream",
     "text": [
      " 40%|████      | 24962/62400 [47:21<1:09:57,  8.92it/s]"
     ]
    },
    {
     "name": "stdout",
     "output_type": "stream",
     "text": [
      "16.433333333333334 0.04782167449593544 -1.2808333333333333\n"
     ]
    },
    {
     "name": "stderr",
     "output_type": "stream",
     "text": [
      " 40%|████      | 25202/62400 [47:50<1:19:17,  7.82it/s]"
     ]
    },
    {
     "name": "stdout",
     "output_type": "stream",
     "text": [
      "17.345833333333335 0.0635959804058075 -1.5808333333333333\n"
     ]
    },
    {
     "name": "stderr",
     "output_type": "stream",
     "text": [
      " 41%|████      | 25441/62400 [48:19<1:28:34,  6.95it/s]"
     ]
    },
    {
     "name": "stdout",
     "output_type": "stream",
     "text": [
      "16.529166666666665 0.050900693982839584 -1.257083333333333\n"
     ]
    },
    {
     "name": "stderr",
     "output_type": "stream",
     "text": [
      " 41%|████      | 25681/62400 [48:48<1:35:36,  6.40it/s]"
     ]
    },
    {
     "name": "stdout",
     "output_type": "stream",
     "text": [
      "16.516666666666666 0.05952594056725502 -1.3445833333333332\n"
     ]
    },
    {
     "name": "stderr",
     "output_type": "stream",
     "text": [
      " 42%|████▏     | 25921/62400 [49:17<1:40:19,  6.06it/s]"
     ]
    },
    {
     "name": "stdout",
     "output_type": "stream",
     "text": [
      "16.875 0.07923442870378494 -1.3370833333333332\n"
     ]
    },
    {
     "name": "stderr",
     "output_type": "stream",
     "text": [
      " 42%|████▏     | 26162/62400 [49:46<1:14:58,  8.06it/s]"
     ]
    },
    {
     "name": "stdout",
     "output_type": "stream",
     "text": [
      "16.945833333333333 0.0451730415225029 -1.3745833333333333\n"
     ]
    },
    {
     "name": "stderr",
     "output_type": "stream",
     "text": [
      " 42%|████▏     | 26401/62400 [50:15<1:20:37,  7.44it/s]"
     ]
    },
    {
     "name": "stdout",
     "output_type": "stream",
     "text": [
      "16.820833333333333 0.057904310524463654 -1.3383333333333332\n"
     ]
    },
    {
     "name": "stderr",
     "output_type": "stream",
     "text": [
      " 43%|████▎     | 26641/62400 [50:45<1:08:14,  8.73it/s]"
     ]
    },
    {
     "name": "stdout",
     "output_type": "stream",
     "text": [
      "16.629166666666666 0.07460455596446991 -1.4045833333333335\n"
     ]
    },
    {
     "name": "stderr",
     "output_type": "stream",
     "text": [
      " 43%|████▎     | 26881/62400 [51:14<1:14:29,  7.95it/s]"
     ]
    },
    {
     "name": "stdout",
     "output_type": "stream",
     "text": [
      "16.854166666666668 0.05810800567269325 -1.3129166666666667\n"
     ]
    },
    {
     "name": "stderr",
     "output_type": "stream",
     "text": [
      " 43%|████▎     | 27122/62400 [51:44<1:10:32,  8.33it/s]"
     ]
    },
    {
     "name": "stdout",
     "output_type": "stream",
     "text": [
      "16.979166666666668 0.04982735589146614 -1.6637499999999998\n"
     ]
    },
    {
     "name": "stderr",
     "output_type": "stream",
     "text": [
      " 44%|████▍     | 27362/62400 [52:13<1:09:36,  8.39it/s]"
     ]
    },
    {
     "name": "stdout",
     "output_type": "stream",
     "text": [
      "16.425 0.07022814452648163 -1.4179166666666667\n"
     ]
    },
    {
     "name": "stderr",
     "output_type": "stream",
     "text": [
      " 44%|████▍     | 27481/62400 [52:28<1:13:35,  7.91it/s]"
     ]
    }
   ],
   "source": [
    "episodes = 62400\n",
    "epsilon = 0.2\n",
    "episode_length = list() #\n",
    "all_loss = list() #\n",
    "tau = 0.005\n",
    "start_distances = list() #\n",
    "end_distances = list() #\n",
    "absolute_distances = list() #\n",
    "relative_distances = list() #\n",
    "trajectories = list() #\n",
    "all_rewards = list()\n",
    "goals = list()\n",
    "\n",
    "for ep in tqdm(range(episodes)):\n",
    "    trajectory = list()\n",
    "    total_reward = 0\n",
    "\n",
    "    # Initialise s1:\n",
    "    brir_name, samp_name = env.get_initial_state(ep)\n",
    "    goal_az, goal_el = brir_name.split(\"_\")[12], brir_name.split(\"_\")[14]\n",
    "    az, el = env.get_azel_from_brir(brir_name)\n",
    "    az_dev, el_dev = env.get_orientation_deviation_from_brir(brir_name)\n",
    "    start_distances.append(env.distance(az, el))\n",
    "    trajectory.append([int(az_dev) if int(az_dev) <= 90 else -((-int(az_dev))%360), int(el_dev)])\n",
    "    windows = env.open_sample_split(samp_name).to(device)\n",
    "    brir = torch.tensor(env.open_brir(brir_name), dtype=torch.float, device=device)\n",
    "    observation = env.convolve_sound(windows[0:1], brir)[0:2].to(device)\n",
    "\n",
    "    # Loop over all other windows:\n",
    "    for window in range(1, env.n_windows):\n",
    "        # Select action epsilon-greedily:\n",
    "        Q_vals = env.get_Q_values_from_state(observation.unsqueeze(0))\n",
    "        best_action = env.get_best_actions_from_Q_values(Q_vals)\n",
    "        actions, action_idx = env.sample_action_epsilon_greedily(best_action, epsilon)\n",
    "\n",
    "        # Execute action and observe reward:\n",
    "        new_az, new_el = env.take_action(actions, az, el, goal_az, goal_el)\n",
    "        new_az_dev, new_el_dev = env.get_orientation_deviation(new_az, new_el, goal_az, goal_el)\n",
    "        trajectory.append([int(new_az_dev) if int(new_az_dev) <= 90 else -((-int(new_az_dev))%360), int(new_el_dev)])\n",
    "        reward = env.get_reward(new_az_dev, new_el_dev, az_dev, el_dev, goal_az, goal_el)\n",
    "        total_reward += reward\n",
    "\n",
    "        # Set new action:\n",
    "        terminal = env.is_terminal(new_az_dev, new_el_dev)\n",
    "        if not terminal:\n",
    "            brir_name = env.next_state(brir_name, new_az, new_el)\n",
    "            # print(brir_name)\n",
    "            brir = torch.tensor(env.open_brir(brir_name), dtype=torch.float, device=device)\n",
    "            new_observation = env.convolve_sound(windows[window:window+1], brir)[0:2].to(device)\n",
    "        else:\n",
    "            new_observation = torch.zeros(2, length_windows).to(device)\n",
    "\n",
    "\n",
    "        # Store into buffer:\n",
    "        env.append_buffer(observation, action_idx, new_observation, reward, terminal, new_az_dev, new_el_dev)\n",
    "\n",
    "        # Go to next state:\n",
    "        az, el = new_az, new_el\n",
    "        az_dev, el_dev = new_az_dev, new_el_dev\n",
    "        observation = new_observation\n",
    "\n",
    "        if terminal:\n",
    "            episode_length.append(window)\n",
    "            # DO STUFF FOR STATISTICS\n",
    "            break\n",
    "        if window == 19:\n",
    "            episode_length.append(window+1)\n",
    "\n",
    "    end_distances.append(env.distance(az_dev, el_dev))\n",
    "    all_rewards.append(total_reward)\n",
    "\n",
    "    absolute_distances.append(start_distances[-1] - end_distances[-1])\n",
    "    if end_distances[-1] != 0:\n",
    "        relative_distances.append(start_distances[-1] / end_distances[-1])\n",
    "    else:\n",
    "        relative_distances.append(10)\n",
    "\n",
    "    # Optimize model\n",
    "    loss = env.train_model()\n",
    "    all_loss.append(loss)\n",
    "\n",
    "    trajectories.append(trajectory)\n",
    "\n",
    "    if ep%240 == 0:\n",
    "        # Update model (hard or soft?)\n",
    "        # Hard update:\n",
    "        # target_net = env.target_network.state_dict()\n",
    "        # policy_net = env.policy_network.state_dict()\n",
    "        # for key in policy_net:\n",
    "        #     target_net[key] = policy_net[key]*tau + target_net[key] * (1-tau)\n",
    "        # env.target_network.load_state_dict(target_net)\n",
    "        env.target_network.load_state_dict(env.policy_network.state_dict())\n",
    "        print(np.mean(episode_length[-240:]), all_loss[-1], np.mean(all_rewards[-240:]))\n",
    "        torch.save(env.policy_network.state_dict(), 'policy_network_architecture_brir_revamp.pth')\n",
    "\n",
    "    # if ep%2400 == 0:\n",
    "    #     plt.figure()\n",
    "    #     plt.plot(np.array(trajectory).T[0], np.array(trajectory).T[1])\n",
    "    #     plt.xlim([-95,95])\n",
    "    #     plt.ylim([-50,50])\n",
    "    #     plt.show()\n",
    "\n",
    "\n",
    "    epsilon -= (epsilon/episodes)\n",
    "\n",
    "print(np.mean(episode_length[-240:]), all_loss[-1])\n",
    "torch.save(env.policy_network.state_dict(), 'policy_network_architecture_brir_revamp.pth')\n"
   ]
  },
  {
   "cell_type": "code",
   "execution_count": null,
   "id": "DoWDM5wbvKlW",
   "metadata": {
    "colab": {
     "base_uri": "https://localhost:8080/",
     "height": 245
    },
    "id": "DoWDM5wbvKlW",
    "outputId": "599f7c9f-c7dd-4408-cb64-c89a02c3557b"
   },
   "outputs": [
    {
     "ename": "NameError",
     "evalue": "name 'plt' is not defined",
     "output_type": "error",
     "traceback": [
      "\u001b[0;31m---------------------------------------------------------------------------\u001b[0m",
      "\u001b[0;31mNameError\u001b[0m                                 Traceback (most recent call last)",
      "\u001b[0;32m<ipython-input-1-652953134b64>\u001b[0m in \u001b[0;36m<cell line: 2>\u001b[0;34m()\u001b[0m\n\u001b[1;32m      1\u001b[0m \u001b[0mcolors\u001b[0m \u001b[0;34m=\u001b[0m \u001b[0;34m[\u001b[0m\u001b[0;34m'red'\u001b[0m\u001b[0;34m,\u001b[0m \u001b[0;34m'orange'\u001b[0m\u001b[0;34m,\u001b[0m \u001b[0;34m'yellow'\u001b[0m\u001b[0;34m,\u001b[0m \u001b[0;34m'green'\u001b[0m\u001b[0;34m,\u001b[0m \u001b[0;34m'lime'\u001b[0m\u001b[0;34m,\u001b[0m \u001b[0;34m'cyan'\u001b[0m\u001b[0;34m,\u001b[0m \u001b[0;34m'magenta'\u001b[0m\u001b[0;34m,\u001b[0m \u001b[0;34m'pink'\u001b[0m\u001b[0;34m,\u001b[0m \u001b[0;34m'purple'\u001b[0m\u001b[0;34m,\u001b[0m \u001b[0;34m'brown'\u001b[0m\u001b[0;34m]\u001b[0m\u001b[0;34m\u001b[0m\u001b[0;34m\u001b[0m\u001b[0m\n\u001b[1;32m      2\u001b[0m \u001b[0;32mfor\u001b[0m \u001b[0mi\u001b[0m \u001b[0;32min\u001b[0m \u001b[0mrange\u001b[0m\u001b[0;34m(\u001b[0m\u001b[0;36m0\u001b[0m\u001b[0;34m,\u001b[0m\u001b[0;36m62400\u001b[0m\u001b[0;34m,\u001b[0m \u001b[0;36m2000\u001b[0m\u001b[0;34m)\u001b[0m\u001b[0;34m:\u001b[0m\u001b[0;34m\u001b[0m\u001b[0;34m\u001b[0m\u001b[0m\n\u001b[0;32m----> 3\u001b[0;31m     \u001b[0mplt\u001b[0m\u001b[0;34m.\u001b[0m\u001b[0mfigure\u001b[0m\u001b[0;34m(\u001b[0m\u001b[0;34m)\u001b[0m\u001b[0;34m\u001b[0m\u001b[0;34m\u001b[0m\u001b[0m\n\u001b[0m\u001b[1;32m      4\u001b[0m     \u001b[0;32mfor\u001b[0m \u001b[0mj\u001b[0m \u001b[0;32min\u001b[0m \u001b[0mrange\u001b[0m\u001b[0;34m(\u001b[0m\u001b[0;36m10\u001b[0m\u001b[0;34m)\u001b[0m\u001b[0;34m:\u001b[0m\u001b[0;34m\u001b[0m\u001b[0;34m\u001b[0m\u001b[0m\n\u001b[1;32m      5\u001b[0m         \u001b[0mplt\u001b[0m\u001b[0;34m.\u001b[0m\u001b[0mplot\u001b[0m\u001b[0;34m(\u001b[0m\u001b[0mnp\u001b[0m\u001b[0;34m.\u001b[0m\u001b[0marray\u001b[0m\u001b[0;34m(\u001b[0m\u001b[0mtrajectories\u001b[0m\u001b[0;34m[\u001b[0m\u001b[0mi\u001b[0m\u001b[0;34m+\u001b[0m\u001b[0mj\u001b[0m\u001b[0;34m]\u001b[0m\u001b[0;34m)\u001b[0m\u001b[0;34m.\u001b[0m\u001b[0mT\u001b[0m\u001b[0;34m[\u001b[0m\u001b[0;36m0\u001b[0m\u001b[0;34m]\u001b[0m\u001b[0;34m,\u001b[0m \u001b[0mnp\u001b[0m\u001b[0;34m.\u001b[0m\u001b[0marray\u001b[0m\u001b[0;34m(\u001b[0m\u001b[0mtrajectories\u001b[0m\u001b[0;34m[\u001b[0m\u001b[0mi\u001b[0m\u001b[0;34m+\u001b[0m\u001b[0mj\u001b[0m\u001b[0;34m]\u001b[0m\u001b[0;34m)\u001b[0m\u001b[0;34m.\u001b[0m\u001b[0mT\u001b[0m\u001b[0;34m[\u001b[0m\u001b[0;36m1\u001b[0m\u001b[0;34m]\u001b[0m\u001b[0;34m,\u001b[0m \u001b[0mlabel\u001b[0m\u001b[0;34m=\u001b[0m\u001b[0;34m\"trajectory \"\u001b[0m\u001b[0;34m+\u001b[0m\u001b[0mstr\u001b[0m\u001b[0;34m(\u001b[0m\u001b[0mj\u001b[0m\u001b[0;34m+\u001b[0m\u001b[0;36m1\u001b[0m\u001b[0;34m)\u001b[0m\u001b[0;34m+\u001b[0m\u001b[0;34m\", episode length \"\u001b[0m\u001b[0;34m+\u001b[0m\u001b[0mstr\u001b[0m\u001b[0;34m(\u001b[0m\u001b[0mepisode_length\u001b[0m\u001b[0;34m[\u001b[0m\u001b[0mi\u001b[0m\u001b[0;34m+\u001b[0m\u001b[0mj\u001b[0m\u001b[0;34m]\u001b[0m\u001b[0;34m)\u001b[0m\u001b[0;34m+\u001b[0m \u001b[0;34m\", reward \"\u001b[0m\u001b[0;34m+\u001b[0m\u001b[0mstr\u001b[0m\u001b[0;34m(\u001b[0m\u001b[0mall_rewards\u001b[0m\u001b[0;34m[\u001b[0m\u001b[0mi\u001b[0m\u001b[0;34m+\u001b[0m\u001b[0mj\u001b[0m\u001b[0;34m]\u001b[0m\u001b[0;34m)\u001b[0m\u001b[0;34m.\u001b[0m\u001b[0mformat\u001b[0m\u001b[0;34m(\u001b[0m\u001b[0;34m\"%2d\"\u001b[0m\u001b[0;34m)\u001b[0m\u001b[0;34m,\u001b[0m \u001b[0mcolor\u001b[0m\u001b[0;34m=\u001b[0m\u001b[0mcolors\u001b[0m\u001b[0;34m[\u001b[0m\u001b[0mj\u001b[0m\u001b[0;34m]\u001b[0m\u001b[0;34m)\u001b[0m\u001b[0;34m\u001b[0m\u001b[0;34m\u001b[0m\u001b[0m\n",
      "\u001b[0;31mNameError\u001b[0m: name 'plt' is not defined"
     ]
    }
   ],
   "source": [
    "colors = ['red', 'orange', 'yellow', 'green', 'lime', 'cyan', 'magenta', 'pink', 'purple', 'brown']\n",
    "for i in range(0,62400, 2000):\n",
    "    plt.figure()\n",
    "    for j in range(10):\n",
    "        plt.plot(np.array(trajectories[i+j]).T[0], np.array(trajectories[i+j]).T[1], label=\"trajectory \"+str(j+1)+\", episode length \"+str(episode_length[i+j])+ \", reward \"+str(all_rewards[i+j]).format(\"%2d\"), color=colors[j])\n",
    "        plt.scatter(np.array(trajectories[i+j]).T[0][0], np.array(trajectories[i+j]).T[1][0], marker='o', color=colors[j])\n",
    "        plt.scatter(np.array(trajectories[i+j]).T[0][-1], np.array(trajectories[i+j]).T[1][-1], marker='x', color=colors[j])\n",
    "        # print(episode_length[i+j])\n",
    "        # plt.scatter(np.array(int(goals[i+j][0])), np.array(int(goals[i+j][1])), marker='*', color=colors[j])\n",
    "    plt.xlim([-95,95])\n",
    "    plt.ylim([-50,50])\n",
    "    plt.xticks([90, 75, 60, 45, 30, 15, 0, -15, -30, -45, -60, -75, -90])\n",
    "    plt.yticks([45, 20, 0, -20, -45])\n",
    "    plt.grid(True)\n",
    "    plt.legend(loc='center left', bbox_to_anchor=(1, 0.5))\n",
    "    plt.title(\"Trajectory at episodes \"+ str(i)+\" to \"+ str(i+9))\n",
    "    # plt.gca().invert_xaxis()\n",
    "    plt.show()\n"
   ]
  },
  {
   "cell_type": "code",
   "execution_count": null,
   "id": "AcUT9giKWAQf",
   "metadata": {
    "colab": {
     "base_uri": "https://localhost:8080/"
    },
    "id": "AcUT9giKWAQf",
    "outputId": "224aac6b-8312-4e8e-e8c5-f57c853dfd9c"
   },
   "outputs": [
    {
     "name": "stdout",
     "output_type": "stream",
     "text": [
      "-1.5999999999999999 [[0, 0], [15, 20], [30, 45], [45, 45], [30, 45], [15, 20], [30, 45], [45, 45], [30, 20], [45, 45], [60, 45], [45, 20], [60, 45], [75, 45], [90, 45], [90, 45], [90, 45], [75, 45], [90, 45], [75, 20]]\n",
      "-1.7999999999999996 [[0, 0], [-15, -20], [0, 0], [15, 20], [30, 45], [45, 45], [30, 20], [15, 0], [0, -20], [15, 0], [30, 0], [45, 20], [60, 45], [45, 45], [60, 45], [75, 45], [90, 45], [75, 20], [60, 0], [75, 20]]\n",
      "1.3 [[0, 0], [15, 20], [30, 45], [45, 45], [60, 45]]\n",
      "-1.5 [[0, 0], [15, 20], [30, 20], [45, 45], [30, 20], [15, 0], [30, -20], [15, -45], [0, -20], [15, 0], [30, 20], [45, 45], [30, 45], [15, 20], [15, 0], [0, -20], [-15, -45], [-30, -45], [-15, -20], [-30, -45]]\n",
      "-1.8999999999999997 [[0, 0], [-15, -20], [-30, -45], [-15, -20], [0, -20], [-15, 0], [0, 20], [-15, 0], [-30, -20], [-45, -45], [-30, -45], [-15, -20], [-30, -45], [-15, -20], [0, 0], [15, 20], [0, 0], [-15, -20], [-30, -45], [-15, -20]]\n",
      "0.7 [[0, 0], [15, 20], [30, 45], [15, 20], [0, 0], [-15, -20], [-30, 0], [-30, -20], [-15, 0], [0, 20], [-15, 0], [-30, -20], [-45, -45], [-60, -20]]\n",
      "-1.4999999999999998 [[0, 0], [15, 20], [30, 45], [15, 20], [0, 0], [-15, -20], [-15, 0], [0, 20], [15, 45], [0, 20], [15, 20], [0, 0], [15, 20], [30, 45], [15, 20], [30, 45], [45, 45], [30, 20], [45, 45], [30, 45]]\n",
      "0.4999999999999998 [[0, 0], [-15, -20], [-30, -45], [-15, -20], [0, 0], [-15, -20], [0, 0], [15, 20], [0, 0], [15, 0], [0, -20], [15, 0], [0, -20], [15, 0], [30, 20], [45, 45]]\n",
      "-2.0999999999999996 [[0, 0], [15, 20], [30, 45], [45, 45], [30, 20], [45, 20], [60, 45], [75, 45], [60, 20], [75, 45], [60, 20], [75, 45], [60, 20], [45, 20], [60, 45], [75, 45], [90, 45], [90, 45], [75, 20], [90, 45]]\n",
      "-2.6 [[0, 0], [15, 20], [30, 45], [15, 20], [0, 0], [-15, -20], [-30, -45], [-15, -20], [0, 0], [15, 0], [30, 20], [45, 20], [60, 20], [75, 0], [90, 20], [90, 45], [90, 45], [90, 45], [75, 20], [90, 45]]\n"
     ]
    }
   ],
   "source": [
    "print(all_rewards[62000], trajectories[62000])\n",
    "print(all_rewards[62001], trajectories[62001])\n",
    "print(all_rewards[62002], trajectories[62002])\n",
    "print(all_rewards[62003], trajectories[62003])\n",
    "print(all_rewards[62004], trajectories[62004])\n",
    "print(all_rewards[62005], trajectories[62005])\n",
    "print(all_rewards[62006], trajectories[62006])\n",
    "print(all_rewards[62007], trajectories[62007])\n",
    "print(all_rewards[62008], trajectories[62008])\n",
    "print(all_rewards[62009], trajectories[62009])"
   ]
  },
  {
   "cell_type": "code",
   "execution_count": null,
   "id": "pDojrTw4wR3x",
   "metadata": {
    "colab": {
     "base_uri": "https://localhost:8080/",
     "height": 430
    },
    "id": "pDojrTw4wR3x",
    "outputId": "4bfa7a87-c4fc-46fd-b3d3-d3c825dc56d4"
   },
   "outputs": [
    {
     "data": {
      "image/png": "[encoded data removed]",
      "text/plain": [
       "<Figure size 640x480 with 1 Axes>"
      ]
     },
     "metadata": {},
     "output_type": "display_data"
    }
   ],
   "source": [
    "plt.figure()\n",
    "plt.plot(end_distances)\n",
    "plt.show()"
   ]
  },
  {
   "cell_type": "code",
   "execution_count": null,
   "id": "hDOWoiwCwhpx",
   "metadata": {
    "colab": {
     "base_uri": "https://localhost:8080/",
     "height": 561
    },
    "id": "hDOWoiwCwhpx",
    "outputId": "36efe03d-b94f-484a-9de6-eaf06d9ed695"
   },
   "outputs": [
    {
     "name": "stderr",
     "output_type": "stream",
     "text": [
      "/usr/local/lib/python3.10/dist-packages/numpy/core/fromnumeric.py:3504: RuntimeWarning: Mean of empty slice.\n",
      "  return _methods._mean(a, axis=axis, dtype=dtype,\n",
      "/usr/local/lib/python3.10/dist-packages/numpy/core/_methods.py:129: RuntimeWarning: invalid value encountered in scalar divide\n",
      "  ret = ret.dtype.type(ret / rcount)\n"
     ]
    },
    {
     "data": {
      "image/png": "[encoded data removed]",
      "text/plain": [
       "<Figure size 640x480 with 1 Axes>"
      ]
     },
     "metadata": {},
     "output_type": "display_data"
    }
   ],
   "source": [
    "ma_abs = list()\n",
    "for i in range(62200):\n",
    "    ma_abs.append(np.mean(np.array(end_distances[i:i+200])))\n",
    "plt.figure()\n",
    "plt.plot(ma_abs)\n",
    "plt.title(\"Moving average of distance to goal at end of episode\")\n",
    "plt.xlabel(\"Episode\")\n",
    "plt.ylabel(\"Chebishev distance\")\n",
    "plt.show()"
   ]
  },
  {
   "cell_type": "code",
   "execution_count": null,
   "id": "9fV8DhSjwXnG",
   "metadata": {
    "colab": {
     "base_uri": "https://localhost:8080/",
     "height": 430
    },
    "id": "9fV8DhSjwXnG",
    "outputId": "43b7dc42-49df-483f-e62f-7de0772a2b4b"
   },
   "outputs": [
    {
     "data": {
      "image/png": "[encoded data removed]",
      "text/plain": [
       "<Figure size 640x480 with 1 Axes>"
      ]
     },
     "metadata": {},
     "output_type": "display_data"
    }
   ],
   "source": [
    "plt.figure()\n",
    "plt.plot(relative_distances)\n",
    "plt.show()"
   ]
  },
  {
   "cell_type": "code",
   "execution_count": null,
   "id": "bOU_n0bANtI8",
   "metadata": {
    "id": "bOU_n0bANtI8"
   },
   "outputs": [],
   "source": [
    "relative_new = ((np.array(end_distances) - np.array(start_distances)) / np.array(start_distances)) * 100"
   ]
  },
  {
   "cell_type": "code",
   "execution_count": null,
   "id": "IdK9E2yPN8tk",
   "metadata": {
    "colab": {
     "base_uri": "https://localhost:8080/",
     "height": 430
    },
    "id": "IdK9E2yPN8tk",
    "outputId": "3cec675c-d118-4ed6-e5a1-4e835d32d631"
   },
   "outputs": [
    {
     "data": {
      "image/png": "[encoded data removed]",
      "text/plain": [
       "<Figure size 640x480 with 1 Axes>"
      ]
     },
     "metadata": {},
     "output_type": "display_data"
    }
   ],
   "source": [
    "plt.figure()\n",
    "plt.plot(relative_new)\n",
    "plt.show()"
   ]
  },
  {
   "cell_type": "code",
   "execution_count": null,
   "id": "fLvMUc3POCf2",
   "metadata": {
    "colab": {
     "base_uri": "https://localhost:8080/",
     "height": 472
    },
    "id": "fLvMUc3POCf2",
    "outputId": "d4990bb3-9c55-4359-fddb-1c4e731997fe"
   },
   "outputs": [
    {
     "data": {
      "image/png": "[encoded data removed]",
      "text/plain": [
       "<Figure size 640x480 with 1 Axes>"
      ]
     },
     "metadata": {},
     "output_type": "display_data"
    }
   ],
   "source": [
    "ma_rel = list()\n",
    "for i in range(62200):\n",
    "    ma_rel.append(np.mean(np.array(relative_new[i:i+200])))\n",
    "plt.figure()\n",
    "plt.plot(ma_rel)\n",
    "plt.title(\"Moving average of relative distance from start to goal at end of episode\")\n",
    "plt.xlabel(\"Episode\")\n",
    "plt.ylabel(\"Chebishev distance\")\n",
    "plt.show()"
   ]
  },
  {
   "cell_type": "code",
   "execution_count": null,
   "id": "m4Jkf_eBwpIL",
   "metadata": {
    "colab": {
     "base_uri": "https://localhost:8080/",
     "height": 430
    },
    "id": "m4Jkf_eBwpIL",
    "outputId": "d5c34ee8-6737-4f55-bd2f-19a31b571040"
   },
   "outputs": [
    {
     "data": {
      "image/png": "[encoded data removed]",
      "text/plain": [
       "<Figure size 640x480 with 1 Axes>"
      ]
     },
     "metadata": {},
     "output_type": "display_data"
    }
   ],
   "source": [
    "ma_rel = list()\n",
    "for i in range(62200):\n",
    "    ma_rel.append(np.mean(np.array(relative_distances[i:i+200])))\n",
    "plt.figure()\n",
    "plt.plot(ma_rel)\n",
    "plt.show()"
   ]
  },
  {
   "cell_type": "code",
   "execution_count": null,
   "id": "e3025bdd-9fc7-47b1-9f8a-432266d31f2c",
   "metadata": {
    "colab": {
     "base_uri": "https://localhost:8080/"
    },
    "id": "e3025bdd-9fc7-47b1-9f8a-432266d31f2c",
    "outputId": "905cd6b2-ffa1-4ef5-ecf6-e7fb0796ef5e"
   },
   "outputs": [
    {
     "name": "stdout",
     "output_type": "stream",
     "text": [
      "17.541666666666668 0.09110937267541885\n"
     ]
    }
   ],
   "source": [
    "print(np.mean(episode_length[-240:]), all_loss[-1])\n",
    "torch.save(env.policy_network.state_dict(), 'policy_network_architecture_hrtf_4.pth')\n"
   ]
  },
  {
   "cell_type": "code",
   "execution_count": null,
   "id": "liMqJZb4JsCk",
   "metadata": {
    "colab": {
     "base_uri": "https://localhost:8080/",
     "height": 472
    },
    "id": "liMqJZb4JsCk",
    "outputId": "26fc4db9-48b6-481e-a97c-0130920f5aa6"
   },
   "outputs": [
    {
     "data": {
      "image/png": "[encoded data removed]",
      "text/plain": [
       "<Figure size 640x480 with 1 Axes>"
      ]
     },
     "metadata": {},
     "output_type": "display_data"
    }
   ],
   "source": [
    "plt.figure()\n",
    "plt.plot(all_rewards)\n",
    "plt.title(\"Reward\")\n",
    "plt.xlabel(\"episode\")\n",
    "plt.ylabel(\"Reward\")\n",
    "plt.show()"
   ]
  },
  {
   "cell_type": "code",
   "execution_count": null,
   "id": "8m92xqNcJylB",
   "metadata": {
    "colab": {
     "base_uri": "https://localhost:8080/",
     "height": 472
    },
    "id": "8m92xqNcJylB",
    "outputId": "9edc24f2-0015-40ac-ca76-9073412b8748"
   },
   "outputs": [
    {
     "data": {
      "image/png": "[encoded data removed]",
      "text/plain": [
       "<Figure size 640x480 with 1 Axes>"
      ]
     },
     "metadata": {},
     "output_type": "display_data"
    }
   ],
   "source": [
    "ma_rew = list()\n",
    "for i in range(62200):\n",
    "    ma_rew.append(np.mean(np.array(all_rewards[i:i+200])))\n",
    "plt.figure()\n",
    "plt.plot(ma_rew)\n",
    "plt.title(\"Moving average of reward\")\n",
    "plt.xlabel(\"episode\")\n",
    "plt.ylabel(\"Reward\")\n",
    "plt.show()"
   ]
  },
  {
   "cell_type": "code",
   "execution_count": null,
   "id": "c625a08f",
   "metadata": {
    "colab": {
     "base_uri": "https://localhost:8080/",
     "height": 564
    },
    "id": "c625a08f",
    "outputId": "605cdf65-5ca1-4058-ffff-e4f5a2658d7c"
   },
   "outputs": [
    {
     "data": {
      "image/png": "[encoded data removed]",
      "text/plain": [
       "<Figure size 600x600 with 1 Axes>"
      ]
     },
     "metadata": {},
     "output_type": "display_data"
    }
   ],
   "source": [
    "# print(episode_length)\n",
    "plt.figure(figsize=(6,6))\n",
    "plt.hist(episode_length[:100], alpha=0.3, label='First 100 episodes')\n",
    "plt.hist(episode_length[-100:], alpha=0.3, label='Last 100 episodes')\n",
    "plt.title(\"Amount of windows needed to find the goal\")\n",
    "plt.xlabel(\"Amount of steps\")\n",
    "plt.ylabel(\"Amount of windows\")\n",
    "plt.xticks([0,2,4,6,8,10,12,14,16,18,20])\n",
    "plt.legend()\n",
    "plt.show()"
   ]
  },
  {
   "cell_type": "code",
   "execution_count": null,
   "id": "219e42f0-a0a6-4172-a206-f581e13c6569",
   "metadata": {
    "colab": {
     "base_uri": "https://localhost:8080/"
    },
    "id": "219e42f0-a0a6-4172-a206-f581e13c6569",
    "outputId": "2d4f2f8e-dbb5-4172-a0cf-c3211985080b"
   },
   "outputs": [],
   "source": [
    "# Print the model's state_dict\n",
    "print(\"Model's state_dict:\")\n",
    "for param_tensor in env.policy_network.state_dict():\n",
    "    print(param_tensor, \"\\t\", env.policy_network.state_dict()[param_tensor].size())\n",
    "\n",
    "# Access individual parameters\n",
    "for param_tensor in env.policy_network.state_dict():\n",
    "    print(param_tensor, \"\\t\", env.policy_network.state_dict()[param_tensor])"
   ]
  },
  {
   "cell_type": "code",
   "execution_count": null,
   "id": "9de94de3-9f59-4849-89d0-301c212299c4",
   "metadata": {
    "id": "9de94de3-9f59-4849-89d0-301c212299c4"
   },
   "outputs": [],
   "source": [
    "distances = list()\n",
    "\n",
    "for ep in range(62400):\n",
    "    distances.append(env.distance(env.get_initial_state(ep)[0].split(\"_\")[16], env.get_initial_state(ep)[0].split(\"_\")[18][:3], env.get_initial_state(ep)[0]))"
   ]
  },
  {
   "cell_type": "code",
   "execution_count": null,
   "id": "7ded9ac6-e3c4-4f12-b08e-d60f96952782",
   "metadata": {
    "colab": {
     "base_uri": "https://localhost:8080/"
    },
    "id": "7ded9ac6-e3c4-4f12-b08e-d60f96952782",
    "outputId": "1889aff2-17bd-4b0e-d616-7ca7f9b07983"
   },
   "outputs": [],
   "source": [
    "print(distances)"
   ]
  },
  {
   "cell_type": "code",
   "execution_count": null,
   "id": "87e0ad95-626a-4d9e-ae9b-10248ea1586b",
   "metadata": {
    "colab": {
     "base_uri": "https://localhost:8080/",
     "height": 948
    },
    "id": "87e0ad95-626a-4d9e-ae9b-10248ea1586b",
    "outputId": "d26380fb-ac8e-4b33-ac7b-1ca6741be590"
   },
   "outputs": [
    {
     "data": {
      "image/png": "[encoded data removed]",
      "text/plain": [
       "<Figure size 640x480 with 1 Axes>"
      ]
     },
     "metadata": {},
     "output_type": "display_data"
    },
    {
     "data": {
      "image/png": "[encoded data removed]",
      "text/plain": [
       "<Figure size 640x480 with 1 Axes>"
      ]
     },
     "metadata": {},
     "output_type": "display_data"
    }
   ],
   "source": [
    "plt.figure()\n",
    "plt.plot(np.array(episode_length[:100]), label='Steps taken')\n",
    "plt.plot(np.array(distances[:100]), label='Minimum steps necessary')\n",
    "plt.title(\"Amount of steps taken to find goal vs. minimum amount necessary\\nFirst 100 episodes\")\n",
    "plt.xlabel(\"episode idx\")\n",
    "plt.ylabel(\"episode length\")\n",
    "plt.legend(loc='center left', bbox_to_anchor=(1, 0.5))\n",
    "plt.show()\n",
    "plt.plot(list(range(62300,62400)), list(np.array(episode_length[62300:62400])), label='Steps taken')\n",
    "plt.plot(list(range(62300,62400)), np.array(distances[62300:62400]), label='Minimum steps necessary')\n",
    "plt.xlabel(\"episode idx\")\n",
    "plt.ylabel(\"episode length\")\n",
    "plt.title(\"Last 100 episodes\")\n",
    "plt.legend(loc='center left', bbox_to_anchor=(1, 0.5))\n",
    "plt.show()"
   ]
  },
  {
   "cell_type": "code",
   "execution_count": null,
   "id": "5f51d7ce-82fa-4222-95e2-de0034d654dd",
   "metadata": {
    "id": "5f51d7ce-82fa-4222-95e2-de0034d654dd"
   },
   "outputs": [],
   "source": [
    "ma = list()\n",
    "for i in range(62200):\n",
    "    ma.append(np.mean(np.array(episode_length[i:i+200])))"
   ]
  },
  {
   "cell_type": "code",
   "execution_count": null,
   "id": "bef1276d-7461-4905-9fbe-577f4b6ec70b",
   "metadata": {
    "colab": {
     "base_uri": "https://localhost:8080/",
     "height": 472
    },
    "id": "bef1276d-7461-4905-9fbe-577f4b6ec70b",
    "outputId": "324218ce-217f-40d1-d32e-435c85987a5a"
   },
   "outputs": [
    {
     "data": {
      "image/png": "[encoded data removed]",
      "text/plain": [
       "<Figure size 640x480 with 1 Axes>"
      ]
     },
     "metadata": {},
     "output_type": "display_data"
    }
   ],
   "source": [
    "plt.figure()\n",
    "plt.plot(ma)\n",
    "plt.title(\"Moving average of episode length\")\n",
    "plt.xlabel(\"Episode\")\n",
    "plt.ylabel(\"Episode length\")\n",
    "plt.show()"
   ]
  },
  {
   "cell_type": "code",
   "execution_count": null,
   "id": "64fcec22-505a-4b94-8cb2-3684b0c83270",
   "metadata": {
    "colab": {
     "base_uri": "https://localhost:8080/",
     "height": 472
    },
    "id": "64fcec22-505a-4b94-8cb2-3684b0c83270",
    "outputId": "e0b9afb3-9fdf-437b-c538-cd17aca652e1"
   },
   "outputs": [
    {
     "data": {
      "image/png": "[encoded data removed]",
      "text/plain": [
       "<Figure size 640x480 with 1 Axes>"
      ]
     },
     "metadata": {},
     "output_type": "display_data"
    }
   ],
   "source": [
    "plt.figure()\n",
    "plt.plot(all_loss)\n",
    "plt.xlabel(\"Episode\")\n",
    "plt.ylabel(\"Loss (Huber)\")\n",
    "plt.title(\"Loss during training\")\n",
    "plt.show()"
   ]
  },
  {
   "cell_type": "code",
   "execution_count": null,
   "id": "1ZJYuaNoVfaN",
   "metadata": {
    "id": "1ZJYuaNoVfaN"
   },
   "outputs": [],
   "source": [
    "ma_loss = list()\n",
    "for i in range(100,62200):\n",
    "    ma_loss.append(np.mean(np.array(all_loss[i:i+200])))"
   ]
  },
  {
   "cell_type": "code",
   "execution_count": null,
   "id": "tmguAFunIX0h",
   "metadata": {
    "colab": {
     "base_uri": "https://localhost:8080/",
     "height": 472
    },
    "id": "tmguAFunIX0h",
    "outputId": "5e6bf9f3-ec67-4581-c0a3-d9c3b28719f3"
   },
   "outputs": [
    {
     "data": {
      "image/png": "[encoded data removed]",
      "text/plain": [
       "<Figure size 640x480 with 1 Axes>"
      ]
     },
     "metadata": {},
     "output_type": "display_data"
    }
   ],
   "source": [
    "plt.figure()\n",
    "plt.plot(ma_loss)\n",
    "plt.xlabel(\"Episode\")\n",
    "plt.ylabel(\"Loss (L2)\")\n",
    "plt.title(\"Moving average of loss during training\")\n",
    "plt.show()"
   ]
  },
  {
   "cell_type": "code",
   "execution_count": null,
   "id": "a6d7ae04-4a9f-413b-805f-5f5d584e09fc",
   "metadata": {
    "colab": {
     "base_uri": "https://localhost:8080/"
    },
    "id": "a6d7ae04-4a9f-413b-805f-5f5d584e09fc",
    "outputId": "de26ec1b-ccfd-414b-84f1-5a5088d9e52f"
   },
   "outputs": [
    {
     "name": "stdout",
     "output_type": "stream",
     "text": [
      "tensor([[-1.2754, -1.2752, -1.2741, -1.4447, -1.3311, -1.5006, -1.5290, -1.5371]],\n",
      "       device='cuda:0', grad_fn=<AddmmBackward0>)\n"
     ]
    }
   ],
   "source": [
    "print(Q_vals)"
   ]
  },
  {
   "cell_type": "code",
   "execution_count": null,
   "id": "qNpO6MIaxA9c",
   "metadata": {
    "colab": {
     "base_uri": "https://localhost:8080/"
    },
    "id": "qNpO6MIaxA9c",
    "outputId": "548c4358-c9e9-44a3-dbf7-046a40375ed9"
   },
   "outputs": [
    {
     "name": "stdout",
     "output_type": "stream",
     "text": [
      "tensor([ 4786,  6840, 10534, 16245, 24296, 30908, 37333, 36276, 36284, 27484,\n",
      "        19813, 13657, 13944,  4142,  5768,  8915, 14231, 20555, 37309, 34917,\n",
      "        47750, 27073, 18501, 11698,  8520,  5654,  3676,  5309,  8301, 12316,\n",
      "        20927, 28716, 34417, 32505, 21432, 12819,  8346,  5260,  3889,  3656,\n",
      "         5695,  7754, 11985, 17182, 33759, 26077, 26189, 15206, 10084,  6401,\n",
      "         4428,  3554,  4940,  5233,  7551, 10959, 15954, 16670, 17258, 14691,\n",
      "        11619,  7893,  5538,  4000,  3735], device='cuda:0', dtype=torch.int32)\n"
     ]
    }
   ],
   "source": [
    "print(env.memory_buffer.class_idxs)"
   ]
  },
  {
   "cell_type": "code",
   "execution_count": null,
   "id": "YTlyN6Kx3d8e",
   "metadata": {
    "colab": {
     "base_uri": "https://localhost:8080/"
    },
    "id": "YTlyN6Kx3d8e",
    "outputId": "a6476a36-3e62-4b34-9ac1-ae251432b7ea"
   },
   "outputs": [
    {
     "name": "stderr",
     "output_type": "stream",
     "text": [
      "\r",
      "  0%|          | 0/15600 [00:00<?, ?it/s]<ipython-input-38-6161dca5db81>:23: UserWarning: To copy construct from a tensor, it is recommended to use sourceTensor.clone().detach() or sourceTensor.clone().detach().requires_grad_(True), rather than torch.tensor(sourceTensor).\n",
      "  brir = torch.tensor(env.open_brir(brir_name), dtype=torch.float, device=device)\n",
      "<ipython-input-38-6161dca5db81>:44: UserWarning: To copy construct from a tensor, it is recommended to use sourceTensor.clone().detach() or sourceTensor.clone().detach().requires_grad_(True), rather than torch.tensor(sourceTensor).\n",
      "  brir = torch.tensor(env.open_brir(brir_name), dtype=torch.float, device=device)\n",
      "  0%|          | 1/15600 [00:00<1:28:34,  2.94it/s]"
     ]
    },
    {
     "name": "stdout",
     "output_type": "stream",
     "text": [
      "17.179166666666667 0.13371291756629944 -1.15875\n"
     ]
    },
    {
     "name": "stderr",
     "output_type": "stream",
     "text": [
      "  2%|▏         | 242/15600 [00:38<38:03,  6.73it/s]"
     ]
    },
    {
     "name": "stdout",
     "output_type": "stream",
     "text": [
      "16.908333333333335 0.10582739114761353 -1.1041666666666665\n"
     ]
    },
    {
     "name": "stderr",
     "output_type": "stream",
     "text": [
      "  3%|▎         | 481/15600 [01:12<38:43,  6.51it/s]"
     ]
    },
    {
     "name": "stdout",
     "output_type": "stream",
     "text": [
      "17.154166666666665 0.09829477965831757 -1.1229166666666666\n"
     ]
    },
    {
     "name": "stderr",
     "output_type": "stream",
     "text": [
      "  5%|▍         | 721/15600 [01:48<1:09:03,  3.59it/s]"
     ]
    },
    {
     "name": "stdout",
     "output_type": "stream",
     "text": [
      "17.295833333333334 0.08339427411556244 -1.1879166666666665\n"
     ]
    },
    {
     "name": "stderr",
     "output_type": "stream",
     "text": [
      "  6%|▌         | 962/15600 [02:22<37:25,  6.52it/s]"
     ]
    },
    {
     "name": "stdout",
     "output_type": "stream",
     "text": [
      "16.679166666666667 0.11043733358383179 -0.9979166666666665\n"
     ]
    },
    {
     "name": "stderr",
     "output_type": "stream",
     "text": [
      "  8%|▊         | 1202/15600 [02:57<36:04,  6.65it/s]"
     ]
    },
    {
     "name": "stdout",
     "output_type": "stream",
     "text": [
      "17.008333333333333 0.12663081288337708 -1.0195833333333333\n"
     ]
    },
    {
     "name": "stderr",
     "output_type": "stream",
     "text": [
      "  9%|▉         | 1441/15600 [03:31<33:27,  7.05it/s]"
     ]
    },
    {
     "name": "stdout",
     "output_type": "stream",
     "text": [
      "17.054166666666667 0.14790880680084229 -1.0716666666666663\n"
     ]
    },
    {
     "name": "stderr",
     "output_type": "stream",
     "text": [
      " 11%|█         | 1682/15600 [04:05<34:31,  6.72it/s]"
     ]
    },
    {
     "name": "stdout",
     "output_type": "stream",
     "text": [
      "17.170833333333334 0.10141521692276001 -1.1012499999999998\n"
     ]
    },
    {
     "name": "stderr",
     "output_type": "stream",
     "text": [
      " 12%|█▏        | 1921/15600 [04:39<27:08,  8.40it/s]"
     ]
    },
    {
     "name": "stdout",
     "output_type": "stream",
     "text": [
      "16.7375 0.06878312677145004 -1.0583333333333333\n"
     ]
    },
    {
     "name": "stderr",
     "output_type": "stream",
     "text": [
      " 14%|█▍        | 2161/15600 [05:13<36:55,  6.06it/s]"
     ]
    },
    {
     "name": "stdout",
     "output_type": "stream",
     "text": [
      "16.6875 0.15688806772232056 -1.0279166666666664\n"
     ]
    },
    {
     "name": "stderr",
     "output_type": "stream",
     "text": [
      " 15%|█▌        | 2401/15600 [05:48<39:38,  5.55it/s]"
     ]
    },
    {
     "name": "stdout",
     "output_type": "stream",
     "text": [
      "17.420833333333334 0.11552050709724426 -1.1833333333333331\n"
     ]
    },
    {
     "name": "stderr",
     "output_type": "stream",
     "text": [
      " 17%|█▋        | 2642/15600 [06:22<30:42,  7.03it/s]"
     ]
    },
    {
     "name": "stdout",
     "output_type": "stream",
     "text": [
      "16.229166666666668 0.16986051201820374 -0.98625\n"
     ]
    },
    {
     "name": "stderr",
     "output_type": "stream",
     "text": [
      " 18%|█▊        | 2882/15600 [06:58<30:51,  6.87it/s]"
     ]
    },
    {
     "name": "stdout",
     "output_type": "stream",
     "text": [
      "17.6625 0.0862104594707489 -1.2854166666666667\n"
     ]
    },
    {
     "name": "stderr",
     "output_type": "stream",
     "text": [
      " 20%|██        | 3122/15600 [07:32<27:04,  7.68it/s]"
     ]
    },
    {
     "name": "stdout",
     "output_type": "stream",
     "text": [
      "16.666666666666668 0.09362246096134186 -1.0741666666666665\n"
     ]
    },
    {
     "name": "stderr",
     "output_type": "stream",
     "text": [
      " 22%|██▏       | 3362/15600 [08:06<29:00,  7.03it/s]"
     ]
    },
    {
     "name": "stdout",
     "output_type": "stream",
     "text": [
      "17.6625 0.1289367973804474 -1.2745833333333332\n"
     ]
    },
    {
     "name": "stderr",
     "output_type": "stream",
     "text": [
      " 23%|██▎       | 3602/15600 [08:40<28:55,  6.92it/s]"
     ]
    },
    {
     "name": "stdout",
     "output_type": "stream",
     "text": [
      "16.695833333333333 0.09284745901823044 -1.11625\n"
     ]
    },
    {
     "name": "stderr",
     "output_type": "stream",
     "text": [
      " 25%|██▍       | 3841/15600 [09:15<35:00,  5.60it/s]"
     ]
    },
    {
     "name": "stdout",
     "output_type": "stream",
     "text": [
      "16.954166666666666 0.1145264059305191 -1.1308333333333331\n"
     ]
    },
    {
     "name": "stderr",
     "output_type": "stream",
     "text": [
      " 26%|██▌       | 4082/15600 [09:49<32:01,  5.99it/s]"
     ]
    },
    {
     "name": "stdout",
     "output_type": "stream",
     "text": [
      "17.041666666666668 0.10409075766801834 -1.103333333333333\n"
     ]
    },
    {
     "name": "stderr",
     "output_type": "stream",
     "text": [
      " 28%|██▊       | 4322/15600 [10:24<28:16,  6.65it/s]"
     ]
    },
    {
     "name": "stdout",
     "output_type": "stream",
     "text": [
      "17.454166666666666 0.11697792261838913 -1.2695833333333333\n"
     ]
    },
    {
     "name": "stderr",
     "output_type": "stream",
     "text": [
      " 29%|██▉       | 4562/15600 [11:00<26:56,  6.83it/s]"
     ]
    },
    {
     "name": "stdout",
     "output_type": "stream",
     "text": [
      "16.7875 0.08954639732837677 -1.155\n"
     ]
    },
    {
     "name": "stderr",
     "output_type": "stream",
     "text": [
      " 31%|███       | 4802/15600 [11:35<25:34,  7.04it/s]"
     ]
    },
    {
     "name": "stdout",
     "output_type": "stream",
     "text": [
      "17.108333333333334 0.10528405010700226 -1.1304166666666664\n"
     ]
    },
    {
     "name": "stderr",
     "output_type": "stream",
     "text": [
      " 32%|███▏      | 5042/15600 [12:09<25:31,  6.89it/s]"
     ]
    },
    {
     "name": "stdout",
     "output_type": "stream",
     "text": [
      "16.891666666666666 0.1079922765493393 -1.1766666666666665\n"
     ]
    },
    {
     "name": "stderr",
     "output_type": "stream",
     "text": [
      " 34%|███▍      | 5282/15600 [12:44<24:37,  6.98it/s]"
     ]
    },
    {
     "name": "stdout",
     "output_type": "stream",
     "text": [
      "17.004166666666666 0.09463909268379211 -1.10625\n"
     ]
    },
    {
     "name": "stderr",
     "output_type": "stream",
     "text": [
      " 35%|███▌      | 5522/15600 [13:19<25:59,  6.46it/s]"
     ]
    },
    {
     "name": "stdout",
     "output_type": "stream",
     "text": [
      "17.141666666666666 0.12228897213935852 -1.1574999999999998\n"
     ]
    },
    {
     "name": "stderr",
     "output_type": "stream",
     "text": [
      " 37%|███▋      | 5761/15600 [13:54<30:39,  5.35it/s]"
     ]
    },
    {
     "name": "stdout",
     "output_type": "stream",
     "text": [
      "16.8875 0.10565067082643509 -1.1641666666666666\n"
     ]
    },
    {
     "name": "stderr",
     "output_type": "stream",
     "text": [
      " 38%|███▊      | 6002/15600 [14:30<21:27,  7.45it/s]"
     ]
    },
    {
     "name": "stdout",
     "output_type": "stream",
     "text": [
      "16.970833333333335 0.09926286339759827 -1.1849999999999998\n"
     ]
    },
    {
     "name": "stderr",
     "output_type": "stream",
     "text": [
      " 40%|████      | 6242/15600 [15:03<21:43,  7.18it/s]"
     ]
    },
    {
     "name": "stdout",
     "output_type": "stream",
     "text": [
      "15.829166666666667 0.14397507905960083 -1.01875\n"
     ]
    },
    {
     "name": "stderr",
     "output_type": "stream",
     "text": [
      " 42%|████▏     | 6482/15600 [15:42<22:31,  6.75it/s]"
     ]
    },
    {
     "name": "stdout",
     "output_type": "stream",
     "text": [
      "16.8875 0.08786539733409882 -1.1583333333333334\n"
     ]
    },
    {
     "name": "stderr",
     "output_type": "stream",
     "text": [
      " 43%|████▎     | 6721/15600 [16:16<25:37,  5.77it/s]"
     ]
    },
    {
     "name": "stdout",
     "output_type": "stream",
     "text": [
      "16.741666666666667 0.11137937009334564 -1.1187499999999997\n"
     ]
    },
    {
     "name": "stderr",
     "output_type": "stream",
     "text": [
      " 45%|████▍     | 6962/15600 [16:50<23:37,  6.09it/s]"
     ]
    },
    {
     "name": "stdout",
     "output_type": "stream",
     "text": [
      "16.504166666666666 0.10288981348276138 -1.0883333333333332\n"
     ]
    },
    {
     "name": "stderr",
     "output_type": "stream",
     "text": [
      " 46%|████▌     | 7201/15600 [17:25<21:49,  6.41it/s]"
     ]
    },
    {
     "name": "stdout",
     "output_type": "stream",
     "text": [
      "16.925 0.12842059135437012 -1.0516666666666665\n"
     ]
    },
    {
     "name": "stderr",
     "output_type": "stream",
     "text": [
      " 48%|████▊     | 7442/15600 [17:59<19:27,  6.99it/s]"
     ]
    },
    {
     "name": "stdout",
     "output_type": "stream",
     "text": [
      "16.625 0.12892192602157593 -1.0845833333333332\n"
     ]
    },
    {
     "name": "stderr",
     "output_type": "stream",
     "text": [
      " 49%|████▉     | 7682/15600 [18:34<19:33,  6.75it/s]"
     ]
    },
    {
     "name": "stdout",
     "output_type": "stream",
     "text": [
      "17.2125 0.09911447763442993 -1.1908333333333332\n"
     ]
    },
    {
     "name": "stderr",
     "output_type": "stream",
     "text": [
      " 51%|█████     | 7922/15600 [19:08<16:49,  7.61it/s]"
     ]
    },
    {
     "name": "stdout",
     "output_type": "stream",
     "text": [
      "16.541666666666668 0.12024683505296707 -1.0258333333333334\n"
     ]
    },
    {
     "name": "stderr",
     "output_type": "stream",
     "text": [
      " 52%|█████▏    | 8162/15600 [19:42<19:01,  6.52it/s]"
     ]
    },
    {
     "name": "stdout",
     "output_type": "stream",
     "text": [
      "17.108333333333334 0.13251100480556488 -1.1566666666666667\n"
     ]
    },
    {
     "name": "stderr",
     "output_type": "stream",
     "text": [
      " 54%|█████▍    | 8402/15600 [20:17<16:18,  7.36it/s]"
     ]
    },
    {
     "name": "stdout",
     "output_type": "stream",
     "text": [
      "17.241666666666667 0.08952578157186508 -1.165833333333333\n"
     ]
    },
    {
     "name": "stderr",
     "output_type": "stream",
     "text": [
      " 55%|█████▌    | 8641/15600 [20:51<21:03,  5.51it/s]"
     ]
    },
    {
     "name": "stdout",
     "output_type": "stream",
     "text": [
      "17.1375 0.08806195855140686 -1.1504166666666664\n"
     ]
    },
    {
     "name": "stderr",
     "output_type": "stream",
     "text": [
      " 57%|█████▋    | 8882/15600 [21:26<17:32,  6.38it/s]"
     ]
    },
    {
     "name": "stdout",
     "output_type": "stream",
     "text": [
      "16.629166666666666 0.12323065847158432 -1.1191666666666662\n"
     ]
    },
    {
     "name": "stderr",
     "output_type": "stream",
     "text": [
      " 58%|█████▊    | 9122/15600 [22:01<16:22,  6.60it/s]"
     ]
    },
    {
     "name": "stdout",
     "output_type": "stream",
     "text": [
      "17.166666666666668 0.11752902716398239 -1.1495833333333332\n"
     ]
    },
    {
     "name": "stderr",
     "output_type": "stream",
     "text": [
      " 60%|██████    | 9362/15600 [22:36<16:00,  6.50it/s]"
     ]
    },
    {
     "name": "stdout",
     "output_type": "stream",
     "text": [
      "17.004166666666666 0.07841053605079651 -1.1316666666666666\n"
     ]
    },
    {
     "name": "stderr",
     "output_type": "stream",
     "text": [
      " 62%|██████▏   | 9602/15600 [23:10<15:05,  6.62it/s]"
     ]
    },
    {
     "name": "stdout",
     "output_type": "stream",
     "text": [
      "17.366666666666667 0.11235592514276505 -1.2408333333333332\n"
     ]
    },
    {
     "name": "stderr",
     "output_type": "stream",
     "text": [
      " 63%|██████▎   | 9842/15600 [23:44<12:45,  7.52it/s]"
     ]
    },
    {
     "name": "stdout",
     "output_type": "stream",
     "text": [
      "16.470833333333335 0.14693763852119446 -1.0437499999999997\n"
     ]
    },
    {
     "name": "stderr",
     "output_type": "stream",
     "text": [
      " 65%|██████▍   | 10081/15600 [24:19<16:48,  5.47it/s]"
     ]
    },
    {
     "name": "stdout",
     "output_type": "stream",
     "text": [
      "17.508333333333333 0.14748775959014893 -1.2937499999999997\n"
     ]
    },
    {
     "name": "stderr",
     "output_type": "stream",
     "text": [
      " 66%|██████▌   | 10321/15600 [24:53<14:42,  5.98it/s]"
     ]
    },
    {
     "name": "stdout",
     "output_type": "stream",
     "text": [
      "16.608333333333334 0.11961670219898224 -1.0766666666666667\n"
     ]
    },
    {
     "name": "stderr",
     "output_type": "stream",
     "text": [
      " 68%|██████▊   | 10562/15600 [25:28<12:20,  6.80it/s]"
     ]
    },
    {
     "name": "stdout",
     "output_type": "stream",
     "text": [
      "17.3875 0.1217486709356308 -1.2004166666666667\n"
     ]
    },
    {
     "name": "stderr",
     "output_type": "stream",
     "text": [
      " 69%|██████▉   | 10801/15600 [26:03<10:40,  7.49it/s]"
     ]
    },
    {
     "name": "stdout",
     "output_type": "stream",
     "text": [
      "16.808333333333334 0.14612369239330292 -1.132083333333333\n"
     ]
    },
    {
     "name": "stderr",
     "output_type": "stream",
     "text": [
      " 71%|███████   | 11042/15600 [26:37<10:35,  7.17it/s]"
     ]
    },
    {
     "name": "stdout",
     "output_type": "stream",
     "text": [
      "17.170833333333334 0.10245922207832336 -1.1358333333333335\n"
     ]
    },
    {
     "name": "stderr",
     "output_type": "stream",
     "text": [
      " 72%|███████▏  | 11282/15600 [27:12<10:15,  7.02it/s]"
     ]
    },
    {
     "name": "stdout",
     "output_type": "stream",
     "text": [
      "17.245833333333334 0.0729367733001709 -1.3308333333333333\n"
     ]
    },
    {
     "name": "stderr",
     "output_type": "stream",
     "text": [
      " 74%|███████▍  | 11522/15600 [27:46<10:14,  6.64it/s]"
     ]
    },
    {
     "name": "stdout",
     "output_type": "stream",
     "text": [
      "17.258333333333333 0.10630445182323456 -1.2054166666666666\n"
     ]
    },
    {
     "name": "stderr",
     "output_type": "stream",
     "text": [
      " 75%|███████▌  | 11761/15600 [28:20<10:32,  6.07it/s]"
     ]
    },
    {
     "name": "stdout",
     "output_type": "stream",
     "text": [
      "17.1125 0.11516806483268738 -1.2320833333333332\n"
     ]
    },
    {
     "name": "stderr",
     "output_type": "stream",
     "text": [
      " 77%|███████▋  | 12002/15600 [28:54<09:29,  6.32it/s]"
     ]
    },
    {
     "name": "stdout",
     "output_type": "stream",
     "text": [
      "16.2875 0.08342266082763672 -1.0474999999999999\n"
     ]
    },
    {
     "name": "stderr",
     "output_type": "stream",
     "text": [
      " 78%|███████▊  | 12242/15600 [29:30<07:18,  7.66it/s]"
     ]
    },
    {
     "name": "stdout",
     "output_type": "stream",
     "text": [
      "17.429166666666667 0.08829246461391449 -1.2379166666666666\n"
     ]
    },
    {
     "name": "stderr",
     "output_type": "stream",
     "text": [
      " 80%|████████  | 12482/15600 [30:05<07:19,  7.09it/s]"
     ]
    },
    {
     "name": "stdout",
     "output_type": "stream",
     "text": [
      "17.025 0.11131055653095245 -1.2424999999999997\n"
     ]
    },
    {
     "name": "stderr",
     "output_type": "stream",
     "text": [
      " 82%|████████▏ | 12722/15600 [30:39<06:51,  7.00it/s]"
     ]
    },
    {
     "name": "stdout",
     "output_type": "stream",
     "text": [
      "16.6 0.09549465775489807 -1.0291666666666666\n"
     ]
    },
    {
     "name": "stderr",
     "output_type": "stream",
     "text": [
      " 83%|████████▎ | 12962/15600 [31:13<06:33,  6.70it/s]"
     ]
    },
    {
     "name": "stdout",
     "output_type": "stream",
     "text": [
      "16.091666666666665 0.08714436739683151 -1.0370833333333331\n"
     ]
    },
    {
     "name": "stderr",
     "output_type": "stream",
     "text": [
      " 85%|████████▍ | 13201/15600 [31:47<06:24,  6.24it/s]"
     ]
    },
    {
     "name": "stdout",
     "output_type": "stream",
     "text": [
      "17.229166666666668 0.11226576566696167 -1.1275\n"
     ]
    },
    {
     "name": "stderr",
     "output_type": "stream",
     "text": [
      " 86%|████████▌ | 13441/15600 [32:22<06:37,  5.43it/s]"
     ]
    },
    {
     "name": "stdout",
     "output_type": "stream",
     "text": [
      "16.625 0.10464079678058624 -1.1083333333333334\n"
     ]
    },
    {
     "name": "stderr",
     "output_type": "stream",
     "text": [
      " 88%|████████▊ | 13682/15600 [32:57<05:18,  6.03it/s]"
     ]
    },
    {
     "name": "stdout",
     "output_type": "stream",
     "text": [
      "17.308333333333334 0.14464375376701355 -1.1099999999999999\n"
     ]
    },
    {
     "name": "stderr",
     "output_type": "stream",
     "text": [
      " 89%|████████▉ | 13922/15600 [33:32<04:03,  6.89it/s]"
     ]
    },
    {
     "name": "stdout",
     "output_type": "stream",
     "text": [
      "16.529166666666665 0.11713708937168121 -1.05375\n"
     ]
    },
    {
     "name": "stderr",
     "output_type": "stream",
     "text": [
      " 91%|█████████ | 14162/15600 [34:07<03:30,  6.82it/s]"
     ]
    },
    {
     "name": "stdout",
     "output_type": "stream",
     "text": [
      "17.3625 0.11036980152130127 -1.2499999999999998\n"
     ]
    },
    {
     "name": "stderr",
     "output_type": "stream",
     "text": [
      " 92%|█████████▏| 14402/15600 [34:41<02:44,  7.30it/s]"
     ]
    },
    {
     "name": "stdout",
     "output_type": "stream",
     "text": [
      "16.870833333333334 0.09687504172325134 -1.1199999999999999\n"
     ]
    },
    {
     "name": "stderr",
     "output_type": "stream",
     "text": [
      " 94%|█████████▍| 14642/15600 [35:15<02:21,  6.79it/s]"
     ]
    },
    {
     "name": "stdout",
     "output_type": "stream",
     "text": [
      "16.783333333333335 0.11508055031299591 -1.2204166666666665\n"
     ]
    },
    {
     "name": "stderr",
     "output_type": "stream",
     "text": [
      " 95%|█████████▌| 14882/15600 [35:49<01:38,  7.29it/s]"
     ]
    },
    {
     "name": "stdout",
     "output_type": "stream",
     "text": [
      "16.195833333333333 0.12926605343818665 -0.9920833333333332\n"
     ]
    },
    {
     "name": "stderr",
     "output_type": "stream",
     "text": [
      " 97%|█████████▋| 15121/15600 [36:24<01:36,  4.96it/s]"
     ]
    },
    {
     "name": "stdout",
     "output_type": "stream",
     "text": [
      "16.991666666666667 0.10281043499708176 -1.1275000000000002\n"
     ]
    },
    {
     "name": "stderr",
     "output_type": "stream",
     "text": [
      " 98%|█████████▊| 15361/15600 [36:59<00:37,  6.41it/s]"
     ]
    },
    {
     "name": "stdout",
     "output_type": "stream",
     "text": [
      "16.445833333333333 0.10694701969623566 -0.9958333333333331\n"
     ]
    },
    {
     "name": "stderr",
     "output_type": "stream",
     "text": [
      "100%|██████████| 15600/15600 [37:34<00:00,  6.92it/s]\n"
     ]
    },
    {
     "name": "stdout",
     "output_type": "stream",
     "text": [
      "16.708333333333332 0.1006041094660759\n"
     ]
    }
   ],
   "source": [
    "episodes = 15600\n",
    "epsilon = 0.0\n",
    "# episode_length = list() #\n",
    "# all_loss = list() #\n",
    "# tau = 0.005\n",
    "# start_distances = list() #\n",
    "# end_distances = list() #\n",
    "# absolute_distances = list() #\n",
    "# relative_distances = list() #\n",
    "# trajectories = list() #\n",
    "# all_rewards = list()\n",
    "\n",
    "for ep in tqdm(range(episodes)):\n",
    "    trajectory = list()\n",
    "    total_reward = 0\n",
    "\n",
    "    # Initialise s1:\n",
    "    brir_name, samp_name = env.get_initial_state(ep)\n",
    "    az, el = env.get_azel_from_brir(brir_name)\n",
    "    start_distances.append(env.distance(az, el, brir_name))\n",
    "    trajectory.append([int(az) if int(az) <= 90 else -((-int(az))%360), int(el)])\n",
    "    windows = env.open_sample_split(samp_name).to(device)\n",
    "    brir = torch.tensor(env.open_brir(brir_name), dtype=torch.float, device=device)\n",
    "    observation = env.convolve_sound(windows[0:1], brir)[0:2].to(device)\n",
    "\n",
    "    # Loop over all other windows:\n",
    "    for window in range(1, env.n_windows):\n",
    "        # Select action epsilon-greedily:\n",
    "        Q_vals = env.get_Q_values_from_state(observation.unsqueeze(0))\n",
    "        best_action = env.get_best_actions_from_Q_values(Q_vals)\n",
    "        actions, action_idx = env.sample_action_epsilon_greedily(best_action, epsilon)\n",
    "\n",
    "        # Execute action and observe reward:\n",
    "        new_az, new_el = env.take_action(actions, az, el)\n",
    "        trajectory.append([int(new_az) if int(new_az) <= 90 else -((-int(new_az))%360), int(new_el)])\n",
    "        reward = env.get_reward(new_az, new_el, az, el, brir_name)\n",
    "        total_reward += reward\n",
    "\n",
    "        # Set new action:\n",
    "        terminal = env.is_terminal(brir_name, new_az, new_el)\n",
    "        if not terminal:\n",
    "            brir_name = env.next_state(brir_name, new_az, new_el)\n",
    "            # print(brir_name)\n",
    "            brir = torch.tensor(env.open_brir(brir_name), dtype=torch.float, device=device)\n",
    "            new_observation = env.convolve_sound(windows[window:window+1], brir)[0:2].to(device)\n",
    "        else:\n",
    "            new_observation = torch.zeros(2, length_windows).to(device)\n",
    "\n",
    "\n",
    "        # Store into buffer:\n",
    "        env.append_buffer(observation, action_idx, new_observation, reward, terminal, new_az, new_el)\n",
    "\n",
    "        # Go to next state:\n",
    "        az, el = new_az, new_el\n",
    "        observation = new_observation\n",
    "\n",
    "        if terminal:\n",
    "            episode_length.append(window)\n",
    "            # DO STUFF FOR STATISTICS\n",
    "            break\n",
    "        if window == 19:\n",
    "            episode_length.append(window+1)\n",
    "\n",
    "    end_distances.append(env.distance(az, el, brir_name))\n",
    "    all_rewards.append(total_reward)\n",
    "\n",
    "    absolute_distances.append(start_distances[-1] - end_distances[-1])\n",
    "    if end_distances[-1] != 0:\n",
    "        relative_distances.append(start_distances[-1] / end_distances[-1])\n",
    "    else:\n",
    "        relative_distances.append(10)\n",
    "\n",
    "    # Optimize model\n",
    "    loss = env.train_model()\n",
    "    all_loss.append(loss)\n",
    "\n",
    "    trajectories.append(trajectory)\n",
    "\n",
    "    if ep%240 == 0:\n",
    "        # Update model (hard or soft?)\n",
    "        # Hard update:\n",
    "        # target_net = env.target_network.state_dict()\n",
    "        # policy_net = env.policy_network.state_dict()\n",
    "        # for key in policy_net:\n",
    "        #     target_net[key] = policy_net[key]*tau + target_net[key] * (1-tau)\n",
    "        # env.target_network.load_state_dict(target_net)\n",
    "        env.target_network.load_state_dict(env.policy_network.state_dict())\n",
    "        print(np.mean(episode_length[-240:]), all_loss[-1], np.mean(all_rewards[-240:]))\n",
    "        torch.save(env.policy_network.state_dict(), 'policy_network_architecture_hrtf_4.pth')\n",
    "\n",
    "    # if ep%2400 == 0:\n",
    "    #     plt.figure()\n",
    "    #     plt.plot(np.array(trajectory).T[0], np.array(trajectory).T[1])\n",
    "    #     plt.xlim([-95,95])\n",
    "    #     plt.ylim([-50,50])\n",
    "    #     plt.show()\n",
    "\n",
    "\n",
    "    epsilon -= (epsilon/episodes)\n",
    "\n",
    "print(np.mean(episode_length[-240:]), all_loss[-1])\n",
    "torch.save(env.policy_network.state_dict(), 'policy_network_architecture_hrtf_4.pth')\n"
   ]
  }
 ],
 "metadata": {
  "accelerator": "GPU",
  "colab": {
   "gpuType": "T4",
   "provenance": []
  },
  "kernelspec": {
   "display_name": "Python 3 (ipykernel)",
   "language": "python",
   "name": "python3"
  },
  "language_info": {
   "codemirror_mode": {
    "name": "ipython",
    "version": 3
   },
   "file_extension": ".py",
   "mimetype": "text/x-python",
   "name": "python",
   "nbconvert_exporter": "python",
   "pygments_lexer": "ipython3",
   "version": "3.12.3"
  }
 },
 "nbformat": 4,
 "nbformat_minor": 5
}
