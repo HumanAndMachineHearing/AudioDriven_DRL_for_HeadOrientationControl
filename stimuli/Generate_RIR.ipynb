{
 "cells": [
  {
   "metadata": {},
   "cell_type": "code",
   "outputs": [],
   "execution_count": null,
   "source": [
    "# Import packages and libraries\n",
    "import numpy as np\n",
    "import math, random\n",
    "import torch\n",
    "import torchaudio\n",
    "import pandas as pd\n",
    "import os\n",
    "import cmath\n",
    "import pyroomacoustics as pra\n",
    "import IPython\n",
    "from scipy.io.wavfile import write\n",
    "import itertools\n",
    "import matplotlib.pyplot as plt"
   ],
   "id": "68217b6f00c4529"
  },
  {
   "metadata": {
    "ExecuteTime": {
     "end_time": "2024-06-26T12:32:39.999398Z",
     "start_time": "2024-06-26T12:32:39.993071Z"
    }
   },
   "cell_type": "code",
   "source": [
    "rt60         = np.arange(.3, .8,.05) # specify reverberation time between .3 and 1 s\n",
    "rt60"
   ],
   "id": "dd42b5b12d14d00d",
   "outputs": [
    {
     "data": {
      "text/plain": [
       "array([0.3 , 0.35, 0.4 , 0.45, 0.5 , 0.55, 0.6 , 0.65, 0.7 , 0.75])"
      ]
     },
     "execution_count": 7,
     "metadata": {},
     "output_type": "execute_result"
    }
   ],
   "execution_count": 7
  },
  {
   "metadata": {},
   "cell_type": "code",
   "outputs": [],
   "execution_count": null,
   "source": [
    "# --Specifications--\n",
    "dir_path = \"/Users/kiki.vanderheijden/Desktop/RIR_SS_SpatHear\"\n",
    "\n",
    "# HRTF parameters\n",
    "hrtf_r     = 1.5 # radius of SONICOM HRTFs in m --> this corresponds to the minimum distance from the wall \n",
    "el_pos_sel = [-45, -30, -20, -10 ,  0,  10,  20,  30,  45] # selected elevations \n",
    "az_pos_sel = [0, 10, 20, 30, 40, 50, 60, 70, 80, 90, 270, 280, 290, 300, 310, 320, 330, 340, 350] # selected azimuth positions\n",
    "\n",
    "#RIR parameters\n",
    "fs_use       = 48000 # specify sampling rate\n",
    "rt60         = np.arange(.3, .8,.05) # specify reverberation time between .3 and 1 s\n",
    "rt60_nr      = 1 # define number of RTs to use for room\n",
    "n_gridloc    = 5 # specify how many grid locations per room should be used\n",
    "mic_geometry = np.array([\n",
    "            [1, 0, 0],\n",
    "            [-1,0,0],\n",
    "            [0,-0.7071,0.7071],\n",
    "            [0,0.7071,0.7071],\n",
    "            [0,-0.7071,-0.7071],\n",
    "            [0,0.7071,-0.7071],\n",
    "            [0,0,0]\n",
    "            ])*0.096/2\n",
    "\n",
    "# Room parameters\n",
    "x_dims = np.arange(4,11,1) # specify range of dimensions to draw from\n",
    "y_dims = np.arange(4,11,1)\n",
    "z_dims = np.arange(3,7,.5)\n",
    "\n",
    "# Define how many rooms to generate\n",
    "nr_rooms = 15"
   ],
   "id": "ad66e5de202cf7d0"
  }
 ],
 "metadata": {
  "kernelspec": {
   "display_name": "Python 3",
   "language": "python",
   "name": "python3"
  },
  "language_info": {
   "codemirror_mode": {
    "name": "ipython",
    "version": 2
   },
   "file_extension": ".py",
   "mimetype": "text/x-python",
   "name": "python",
   "nbconvert_exporter": "python",
   "pygments_lexer": "ipython2",
   "version": "2.7.6"
  }
 },
 "nbformat": 4,
 "nbformat_minor": 5
}
